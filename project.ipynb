{
 "cells": [
  {
   "cell_type": "markdown",
   "id": "79df5a0f-bb8c-4075-8922-f5dc4f5dfee5",
   "metadata": {},
   "source": [
    "# Project code\n",
    "This is the main code file of the project. The scope of the project is to investigate the language, semantics and trends in the Harry Potter books. By using the books in pdf-format as datasource, I will attempt to create a model that takes a page without label and predicts what book it is from."
   ]
  },
  {
   "cell_type": "markdown",
   "id": "21fa88c0-6c57-499f-9e86-923a8287248a",
   "metadata": {},
   "source": [
    "## Part 1: Loading PDF to Dataframe\n",
    "The following cells loads the data into dataframes, and uses a extraction function to achieve the desired data structure."
   ]
  },
  {
   "cell_type": "code",
   "execution_count": 1,
   "id": "6bfaa84b-5b2c-4a03-8d93-fddc23256d57",
   "metadata": {},
   "outputs": [],
   "source": [
    "import os\n",
    "import re\n",
    "import pandas as pd\n",
    "import PyPDF2\n",
    "from PyPDF2 import PdfReader,PdfWriter\n",
    "def extract_clean_text(text):\n",
    "    # replace tabs and newlines with a space\n",
    "    text = text.replace('\\t', ' ').replace('\\n', ' ')\n",
    "    # replace multiple spaces with a single space\n",
    "    text = ' '.join(text.split())\n",
    "    return text"
   ]
  },
  {
   "cell_type": "code",
   "execution_count": 2,
   "id": "9070931f-a675-4668-b2f4-b9696a1b6a30",
   "metadata": {},
   "outputs": [],
   "source": [
    "def pdf_to_dataframe(pdf_path):\n",
    "    data = []\n",
    "\n",
    "    with open(pdf_path, 'rb') as file:\n",
    "        reader = PdfReader(file)\n",
    "        num_pages = len(reader.pages)\n",
    "\n",
    "        for i in range(num_pages):\n",
    "            page_text = reader.pages[i].extract_text()\n",
    "            if page_text:\n",
    "                clean_page_text = extract_clean_text(page_text)\n",
    "                data.append({'Page': i + 1, 'Text': clean_page_text})\n",
    "\n",
    "    df = pd.DataFrame(data)\n",
    "    return df"
   ]
  },
  {
   "cell_type": "markdown",
   "id": "f0feab6c-6e71-4fd2-aa57-65642a686505",
   "metadata": {},
   "source": [
    "## Part 2: Tokenizaton\n",
    "Tokenize the text using spacy. "
   ]
  },
  {
   "cell_type": "code",
   "execution_count": 3,
   "id": "3366dd68-4a3c-429b-ad4c-bcad0f76e4cf",
   "metadata": {},
   "outputs": [],
   "source": [
    "import spacy\n",
    "\n",
    "# Load SpaCy model\n",
    "nlp = spacy.load('en_core_web_sm')\n",
    "\n",
    "# Define the tokenizer function\n",
    "def tokenization(text):\n",
    "    doc = nlp(text)\n",
    "    tokens = [token.lemma_ for token in doc if not token.is_stop and token.is_alpha]\n",
    "    return tokens\n"
   ]
  },
  {
   "cell_type": "markdown",
   "id": "319c644d-59a5-4e59-9ac6-83df5211e6d8",
   "metadata": {},
   "source": [
    "#### Data extraction\n",
    "Using the above functions to first create separate dataframes for each book."
   ]
  },
  {
   "cell_type": "markdown",
   "id": "bb40b63a-f20b-4fed-bef5-19b0212edd91",
   "metadata": {},
   "source": [
    "## Part 3: Book specific preprocessing\n",
    "Since the books come in slightly different format, inspection has led to the conclusion that some manual preprocessing will be needed for some of the books to obtain similar structure for all dataframes."
   ]
  },
  {
   "cell_type": "markdown",
   "id": "76b855a9-d38a-41f7-bedb-825ad2dd0e6a",
   "metadata": {},
   "source": [
    "### Common functions used for several books"
   ]
  },
  {
   "cell_type": "code",
   "execution_count": 4,
   "id": "78c0cfd4-8f58-4c42-b091-cceda11184db",
   "metadata": {},
   "outputs": [],
   "source": [
    "# Define the function to extract header. Used for several books.\n",
    "def extract_header(page_text):\n",
    "    # Headers are defined as the first line of a page\n",
    "    header = page_text.split('\\n')[0]\n",
    "    return header\n",
    "\n",
    "\n",
    "def merge_split_words(text):\n",
    "    # regex for finding and replacing the failed reading of words split by newline. \n",
    "    pattern = r'(\\w+)- (\\w+)'\n",
    "    \n",
    "    def merge_match(match):\n",
    "        return match.group(1) + match.group(2)\n",
    "\n",
    "    merged_text = re.sub(pattern, merge_match, text)\n",
    "\n",
    "    return merged_text"
   ]
  },
  {
   "cell_type": "markdown",
   "id": "ccf6ae14-ed7d-4ae0-8c04-715ca407ed86",
   "metadata": {},
   "source": [
    "# NOTE:\n",
    "For all books, a threshold of 30 words is applied for the including of words in the dataframes. Furthermore, everytime a pattern is used for filtering out headers and such, It has been inspected to not interfer wit the actual data. For example, books 4 and 5 handle their uppercase lines with exceptions lists. At all places where no such exceptions are handled, it is because I made sure to check that it was not needed."
   ]
  },
  {
   "cell_type": "markdown",
   "id": "a79a3867-cc9d-4790-9888-8da53f85a6c9",
   "metadata": {},
   "source": [
    "### Book 1\n",
    "The first book requires the least effort, since it has no strange formats or chapter titles in the pages. We only extract the Chapter number an title and remove it when present, i.e in the beginning of chapters. This involves removing the two first rows if the page starts with \"chapter\"."
   ]
  },
  {
   "cell_type": "code",
   "execution_count": 11,
   "id": "340643cf-1206-41fd-a80b-09f3a931afea",
   "metadata": {},
   "outputs": [],
   "source": [
    "def process_pdf_book_1(pdf_path):\n",
    "    df = pd.DataFrame(columns=['Page', 'Text', 'Tokens'])\n",
    "    data = []\n",
    "\n",
    "    with pdfplumber.open(pdf_path) as pdf:\n",
    "        num_pages = len(pdf.pages)\n",
    "\n",
    "        for i in range(num_pages):\n",
    "            page = pdf.pages[i]\n",
    "            page_text = page.extract_text()\n",
    "            if page_text: \n",
    "                header = extract_header(page_text)\n",
    "                if header.lower().startswith(\"chapter\"):\n",
    "                    page_text = page_text.replace(header, '').strip()  # remove the chapter title\n",
    "                    secondary_header = extract_header(page_text)\n",
    "                    page_text = page_text.replace(secondary_header, '').strip()\n",
    "                cleaned_page_text = extract_clean_text(page_text)\n",
    "                cleaned_page_text = merge_split_words(cleaned_page_text)\n",
    "                data.append({'Page': i + 1, 'Text': cleaned_page_text})\n",
    "\n",
    "        df = pd.DataFrame(data)\n",
    "    df['Tokens'] = df['Text'].apply(tokenization)\n",
    "\n",
    "    # Filter out pages with less than 30 tokens\n",
    "    df_filtered = df[df['Tokens'].apply(len) >= 30]\n",
    "    \n",
    "    return df_filtered"
   ]
  },
  {
   "cell_type": "markdown",
   "id": "429e210c-abb1-4746-8b09-03455c553262",
   "metadata": {},
   "source": [
    "### Book 7\n",
    "The last book in the series is a trickier version of book 1. Here, every page number is included by the pdf reader at the end of the page. This is removed by the first function. Furthermore, all pages here contain a header which is alternating between chapter number and chapter title. These cases are handled by the default extract_header function, but I needed to get rid of the ones initializing each new chapter. Since I could not identify a pattern to use for finding chapter beginnings and removing them, my only idea was to create a dictionary with all the chapters in order to check for matching sequences of text, and then remove them. Finally, the first two initial pages are dropped because they are copyright pages etc."
   ]
  },
  {
   "cell_type": "code",
   "execution_count": 6,
   "id": "c717fb85-e5f5-4186-b105-080c8c5a92db",
   "metadata": {},
   "outputs": [],
   "source": [
    "def remove_page_number_from_end(text):\n",
    "    # Split the text into words\n",
    "    words = text.split()\n",
    "\n",
    "    # Just verifying that the last \"word\" on the page is indeed the page number.\n",
    "    if words and words[-1].isdigit() and int(words[-1]) <= 999:\n",
    "        # Remove the last word\n",
    "        return ' '.join(words[:-1])\n",
    "    return text\n",
    "    \n",
    "def remove_chapter_titles(text, chapter_titles):\n",
    "    words = text.split()\n",
    "    for i in range(1, 8): # Since the longest chapter name in this book is seven words, we do not need to search for a pattern after that.\n",
    "        sequence = ' '.join(words[:i])\n",
    "        if sequence in chapter_titles:\n",
    "            return text.replace(sequence, '', 1).strip()\n",
    "    return text\n",
    "    \n",
    "\n",
    "\n",
    "def process_pdf_book_7(pdf_path):\n",
    "    # Dictionary of chapter titles, since there was no other pattern obvious to me on how\n",
    "    # to identify and remove the chapter titles. For other books, there was always some uppercase pattern or such...\n",
    "    chapter_titles = {\n",
    "        \"The Dark Lord Ascending\": True,\n",
    "        \"In Memoriam\": True,\n",
    "        \"The Dursleys Departing\": True,\n",
    "        \"The Seven Potters\": True,\n",
    "        \"Fallen Warrior\": True,\n",
    "        \"The Ghoul in Pyjamas\": True,\n",
    "        \"The Will of Albus Dumbledore\": True,\n",
    "        \"The Wedding\": True,\n",
    "        \"A Place to Hide\": True,\n",
    "        \"Kreacher's Tale\": True,\n",
    "        \"The Bribe\": True,\n",
    "        \"Magic is Might\": True,\n",
    "        \"The Muggle-Born Registration Commission\": True,\n",
    "        \"The Thief\": True,\n",
    "        \"The Goblin's Revenge\": True,\n",
    "        \"Godric's Hollow\": True,\n",
    "        \"Bathilda's Secret\": True,\n",
    "        \"The Life and Lies of Albus Dumbledore\": True,\n",
    "        \"The Silver Doe\": True,\n",
    "        \"Xenophilius Lovegood\": True,\n",
    "        \"The Tale of the Three Brothers\": True,\n",
    "        \"The Deathly Hallows\": True,\n",
    "        \"Malfoy Manor\": True,\n",
    "        \"The Wandmaker\": True,\n",
    "        \"Shell Cottage\": True,\n",
    "        \"Gringotts\": True,\n",
    "        \"The Final Hiding Place\": True,\n",
    "        \"The Missing Mirror\": True,\n",
    "        \"The Lost Diadem\": True,\n",
    "        \"The Sacking of Severus Snape\": True,\n",
    "        \"The Battle of Hogwarts\": True,\n",
    "        \"The Elder Wand\": True,\n",
    "        \"The Prince's Tale\": True,\n",
    "        \"The Forest Again\": True,\n",
    "        \"King's Cross\": True,\n",
    "        \"The Flaw in the Plan\": True\n",
    "    }\n",
    "\n",
    "\n",
    "    df = pd.DataFrame(columns=['Page', 'Text'])\n",
    "    data = []\n",
    "\n",
    "    with open(pdf_path, 'rb') as file:\n",
    "        reader = PdfReader(file)\n",
    "        num_pages = len(reader.pages)\n",
    "\n",
    "        for i in range(num_pages):\n",
    "            page_text = reader.pages[i].extract_text()\n",
    "            if page_text:  # Check if the page contains text\n",
    "                header = extract_header(page_text)\n",
    "                page_text = page_text.replace(header, '').strip()  # Remove the initial header\n",
    "                cleaned_page_text = extract_clean_text(page_text) \n",
    "                cleaned_page_text = remove_chapter_titles(cleaned_page_text, chapter_titles)  # Remove chapter titles\n",
    "                cleaned_page_text = remove_page_number_from_end(cleaned_page_text)\n",
    "                cleaned_page_text = merge_split_words(cleaned_page_text)\n",
    "                data.append({'Page': i + 1, 'Text': cleaned_page_text})\n",
    "\n",
    "    df = pd.DataFrame(data)\n",
    "    df['Tokens'] = df['Text'].apply(tokenization)\n",
    "\n",
    "    # Filter out pages with less than 30 tokens\n",
    "    df_filtered = df[df['Tokens'].apply(len) >= 30]\n",
    "\n",
    "    # Dropping the copyright pages etc.\n",
    "    df_final = df_filtered.drop(df_filtered.index[0]).reset_index(drop=True)\n",
    "    df_final = df_final.drop(df_final.index[0]).reset_index(drop=True)\n",
    "\n",
    "    return df_final[['Page', 'Text', 'Tokens']]"
   ]
  },
  {
   "cell_type": "markdown",
   "id": "0db65710-d77c-47d9-a64e-ac0fa3dd220c",
   "metadata": {},
   "source": [
    "### Book 2 & 6\n",
    "The struggle here is that all pages start with the same format containing the page and the title. Thses are handled by the two functions below. Furthermore, I had to construct a way of identifying the chapter names initializing chapters. The pattern I discovered was the uppercase format of chapter titles, which allowed for removing the intial sequence of upper case words to make sure they are not included in the dataframe."
   ]
  },
  {
   "cell_type": "code",
   "execution_count": 7,
   "id": "483fc0f1-c7a0-4543-adbc-898ab3dcedb1",
   "metadata": {},
   "outputs": [],
   "source": [
    "\n",
    "def remove_header_for_book_2(text, page_number):\n",
    "    if page_number < 100:\n",
    "        # Pattern for pages 1-99\n",
    "        header_pattern = f\"P a g e \\| {page_number} Harry Potter and the Chamber of Secrets – J.K[ .]*Rowling\"\n",
    "        cleaned_text = re.sub(header_pattern, '', text, flags=re.IGNORECASE)\n",
    "    else:\n",
    "        # Pattern for the rest. ChatGPT helped me debug and find the additional space in the title above page 99, \n",
    "        # could have taken me a lifetime to find manually...\n",
    "        header_pattern = f\"P a g e \\| {page_number} Harry Potter and the Chamber of Secrets – J. K[ .]*Rowling\"\n",
    "        cleaned_text = re.sub(header_pattern, '', text, flags=re.IGNORECASE | re.DOTALL)\n",
    "    \n",
    "    # Perform the removal of chapter titles.\n",
    "    return remove_chapter_titles_book_2_and_6(cleaned_text, ['ARAGOG'])   \n",
    "\n",
    "\n",
    "\n",
    "def remove_header_for_book_6(text, page_number):\n",
    "    special_titles = ['SECTUMSEMPRA', 'HORCRUXES']\n",
    "    if page_number < 100:\n",
    "        header_pattern = f\"P a g e \\| {page_number} Harry Potter and the Half Blood Prince – J.K. Rowling\"\n",
    "    else:\n",
    "        header_pattern = f\"P a g e \\| {page_number} Harry Potter and the Half Blood Prince – J.K[ .]*Rowling\"\n",
    "\n",
    "    cleaned_text = re.sub(header_pattern, '', text, flags=re.IGNORECASE | re.DOTALL)\n",
    "    \n",
    "    return remove_chapter_titles_book_2_and_6(cleaned_text, ['SECTUMSEMPRA', 'HORCRUXES'])\n",
    "    \n",
    "\n",
    "def remove_chapter_titles_book_2_and_6(cleaned_text, special_titles):\n",
    "    words = cleaned_text.strip().split()\n",
    "    uppercase_sequence = []\n",
    "    for word in words:\n",
    "        if word.isupper():\n",
    "            uppercase_sequence.append(word)\n",
    "        else:\n",
    "            break  # Stop if a word is not uppercase\n",
    "            \n",
    "    # The function is designed to find the end of the title, which will be one uppercase token. To handel the \n",
    "    # Chapter names that are actually one word, these are passed as an array since they where so few.\n",
    "    if len(uppercase_sequence) > 1 or (len(uppercase_sequence) == 1 and uppercase_sequence[0] in special_titles):\n",
    "        uppercase_text = ' '.join(uppercase_sequence)\n",
    "        cleaned_text = cleaned_text.replace(uppercase_text, '', 1).strip()\n",
    "    return merge_split_words(cleaned_text.strip())\n",
    "\n",
    "\n",
    "def process_pdf_book_2_6(pdf_path, header_function):\n",
    "    df = pdf_to_dataframe(pdf_path)\n",
    "\n",
    "    # The only thing differing is the header function, so this is passed into this preprocessing funciton from \n",
    "    # outside.\n",
    "    df['Text'] = df.apply(lambda row: header_function(row['Text'], row['Page']), axis=1)\n",
    "\n",
    "    df['Tokens'] = df['Text'].apply(tokenization)\n",
    "\n",
    "    # Filter out pages with less than 30 tokens\n",
    "    df_filtered = df[df['Tokens'].apply(len) >= 30]\n",
    "\n",
    "    final_df = df_filtered[['Page', 'Text', 'Tokens']]\n",
    "    return final_df"
   ]
  },
  {
   "cell_type": "markdown",
   "id": "41593136-34bd-40cc-9868-c72a873d6fc1",
   "metadata": {},
   "source": [
    "### Book 4 & Book 5\n",
    "Here, the pages also contain the chapter number (in text format) or the chapter name on top of the pages. Additionally, each page has the page number in the bottom of the page and a cid format. Finally, a rather strange pattern was identified after debugging the tokenization of the pages: In these books they are using a special, large font for the first letter in a new chapter. When a chapter starts with a sentence like \"Harry woke up...\" the pdf-reader reads it as \"arry woke up\", and then appends the \"H\" as its own line between the chapter title and the actual text. This is fixed by identifying a row that is only uppercase but only one character, and then appending it in the beginning of the next word, restoring the actual text. "
   ]
  },
  {
   "cell_type": "code",
   "execution_count": 8,
   "id": "9466426c-b886-4bf1-81a4-8a8e8e3d25eb",
   "metadata": {},
   "outputs": [],
   "source": [
    "import pdfplumber\n",
    "import pandas as pd\n",
    "\n",
    "def remove_cid_and_page_number(text):\n",
    "    lines = text.split('\\n')\n",
    "\n",
    "    # Remove the last line if it contains \"(cid:145)\". Just an identified pattern in these books with the new pdf reader.\n",
    "    if lines and \"(cid:145)\" in lines[-1]:\n",
    "        lines = lines[:-1]\n",
    "\n",
    "    # Join the lines again\n",
    "    cleaned_text = '\\n'.join(lines)\n",
    "\n",
    "    #remove the page number from the end\n",
    "    cleaned_text = remove_page_number_from_end(cleaned_text)\n",
    "\n",
    "    return cleaned_text\n",
    "\n",
    "def process_uppercase_lines(text, page_number, one_line_pages, two_line_pages):\n",
    "    lines = text.split('\\n')\n",
    "    new_text = []\n",
    "    append_next_line = False  # Bool to check if we need to append to the next line\n",
    "    char_to_append = \"\"\n",
    "\n",
    "    # These are the cases when the actual text of a page starts with only uppercase letters in that row,\n",
    "    # in that case we want to keep it. These pages where identified by inspection of debug prints,\n",
    "    # And the only solution i came up with was passing the page numbers and solve it this way.\n",
    "    # one_line_pages contain the pages where there is an uppercase sequence we shall keep, and the chapter title is only one \n",
    "    # line. In such case, remove one line. The other array is for two line chapter titles.\n",
    "    if page_number in one_line_pages:\n",
    "        new_text = lines[1:]  # Skip the first line\n",
    "    elif page_number in two_line_pages:\n",
    "        new_text = lines[2:]  # Skip the first two lines\n",
    "    else:\n",
    "        # Otherwise, remove all initial uppercase lines. This function also locates the lost character that is actually part\n",
    "        # of the very first word in the text. \n",
    "        for index, line in enumerate(lines):\n",
    "            if line.isupper():\n",
    "                if len(line) == 1 and index + 1 < len(lines):  # Check for single character line\n",
    "                    append_next_line = True\n",
    "                    char_to_append = line[0]\n",
    "            else:\n",
    "                if append_next_line:\n",
    "                    # Append single uppercase character to the beginning of the next line, it appears on its own\n",
    "                    # line due to strange font etc.\n",
    "                    new_text.append(char_to_append + lines[index])\n",
    "                    append_next_line = False\n",
    "                else:\n",
    "                    new_text.append(line)\n",
    "\n",
    "    return '\\n'.join(new_text)\n",
    "\n",
    "\n",
    "def process_pdf_book_4_and_5(pdf_path, one_line_pages, two_line_pages):\n",
    "    df = pd.DataFrame(columns=['Page', 'Text'])\n",
    "    data = []\n",
    "\n",
    "    with pdfplumber.open(pdf_path) as pdf:\n",
    "        num_pages = len(pdf.pages)\n",
    "\n",
    "        for i in range(num_pages):\n",
    "            page = pdf.pages[i]\n",
    "            page_text = page.extract_text()\n",
    "\n",
    "            if page_text:  # Check if the page contains text\n",
    "                cleaned_page_text = process_uppercase_lines(page_text, i+1, one_line_pages, two_line_pages)\n",
    "                cleaned_page_text = remove_cid_and_page_number(cleaned_page_text)\n",
    "                cleaned_page_text = merge_split_words(cleaned_page_text)\n",
    "                data.append({'Page': i + 1, 'Text': cleaned_page_text})\n",
    "\n",
    "    df = pd.DataFrame(data)\n",
    "    df['Tokens'] = df['Text'].apply(tokenization)\n",
    "    # Drop the first row, copyright page\n",
    "    if not df.empty:\n",
    "        df = df.drop(df.index[0]).reset_index(drop=True)\n",
    "\n",
    "    return df\n"
   ]
  },
  {
   "cell_type": "markdown",
   "id": "4ae4123f-a0e9-4974-8feb-4f5b5b8e3235",
   "metadata": {},
   "source": [
    "### Book 3\n",
    "This propricessing was additionally the far trickiest, but with the new pdfreader it is a bit simpler. The main concern here is that almost all chapters start in the middle of pages, so we have to identify uppercase sequences starting with \"CHAPTER\" and then remove the entire sequence. Furthermore, the chapternumber is present at the top of the page and therefore removed."
   ]
  },
  {
   "cell_type": "code",
   "execution_count": 9,
   "id": "2ea9ad34-2027-4685-98b9-3bcfc31abf51",
   "metadata": {},
   "outputs": [],
   "source": [
    "def remove_initial_number_3(text):\n",
    "    # regex to find initial page number even if spaces surrounds.\n",
    "    pattern = r'^\\d+\\s*'\n",
    "    cleaned_text = re.sub(pattern, '', text)\n",
    "    return cleaned_text.strip()\n",
    "\n",
    "def remove_chapter_titles(text, page_number):\n",
    "    new_text = []\n",
    "\n",
    "    # Hardcoded solutions for specific pages where the title is at the top. The \n",
    "    # general function somehow does not solve these and i just didnt have any more time for debugging. So,\n",
    "    # hard coded it is then!\n",
    "    if page_number == 2:\n",
    "        text = text.replace('OWL POST', '')\n",
    "    elif page_number == 194:\n",
    "        text = text.replace('THE PATRONUS', '')\n",
    "\n",
    "    lines = text.split('\\n')\n",
    "    chapter_line_index = None\n",
    "\n",
    "    # Find the index of the line with 'CHAPTER'. In this book, a chapter begins anywhere in a page.\n",
    "    for index, line in enumerate(lines):\n",
    "        if 'CHAPTER' in line:\n",
    "            chapter_line_index = index\n",
    "            break\n",
    "\n",
    "    # If 'CHAPTER' line is found, process the text. We have to split by line to find the terms to remove.\n",
    "    if chapter_line_index is not None:\n",
    "        for i, line in enumerate(lines):\n",
    "            if i == chapter_line_index:\n",
    "                words = line.split()\n",
    "                processed_line = [word for word in words if not word.isupper()]\n",
    "                new_line = ' '.join(processed_line)\n",
    "                if processed_line:  # Add non empty lines\n",
    "                    new_text.append(new_line)\n",
    "            else:\n",
    "                new_text.append(line) \n",
    "    else:\n",
    "        new_text = lines  # If no chapter title, keep the text as it was\n",
    "\n",
    "    return '\\n'.join(new_text)\n",
    "\n",
    "def process_pdf_book_3(pdf_path):\n",
    "    df = pd.DataFrame(columns=['Page', 'Text'])\n",
    "    data = []\n",
    "    with pdfplumber.open(pdf_path) as pdf:\n",
    "        num_pages = len(pdf.pages)\n",
    "\n",
    "        for i in range(num_pages):\n",
    "            page_text = pdf.pages[i].extract_text()\n",
    "            if page_text: \n",
    "                cleaned_page_text = remove_page_number_from_end(page_text) \n",
    "                cleaned_page_text = remove_chapter_titles(cleaned_page_text, i+1)  \n",
    "                cleaned_page_text = merge_split_words(cleaned_page_text)\n",
    "                \n",
    "                data.append({'Page': i + 1, 'Text': cleaned_page_text})\n",
    "                \n",
    "    df = pd.DataFrame(data)\n",
    "    df['Tokens'] = df['Text'].apply(tokenization)\n",
    "\n",
    "    df_filtered = df[df['Tokens'].apply(len) >= 30]\n",
    "\n",
    "    return df_filtered[['Page', 'Text', 'Tokens']]"
   ]
  },
  {
   "cell_type": "markdown",
   "id": "0ce4901a-b6d1-4cde-90cd-6bd3641dfeca",
   "metadata": {},
   "source": [
    "## Creating the dataframes for each book"
   ]
  },
  {
   "cell_type": "code",
   "execution_count": 12,
   "id": "c03dc99c-27a4-446a-8920-9f6583a7dfd1",
   "metadata": {},
   "outputs": [],
   "source": [
    "df_1 = process_pdf_book_1('data/book1.pdf')\n",
    "df_1['label'] = 1"
   ]
  },
  {
   "cell_type": "code",
   "execution_count": 13,
   "id": "ad6bf5ab-8be8-4a3e-b196-1c7e5ff71aec",
   "metadata": {},
   "outputs": [],
   "source": [
    "df_2 = process_pdf_book_2_6('data/book2.pdf', remove_header_for_book_2)\n",
    "df_2['label'] = 2"
   ]
  },
  {
   "cell_type": "code",
   "execution_count": 14,
   "id": "d855998a-5cd8-4d7f-9806-ed46bd9c5612",
   "metadata": {},
   "outputs": [],
   "source": [
    "df_3 = process_pdf_book_3('data/book3.pdf')\n",
    "df_3['label'] = 3"
   ]
  },
  {
   "cell_type": "code",
   "execution_count": 15,
   "id": "501c25d0-587b-4635-ad13-2053e0142d15",
   "metadata": {},
   "outputs": [],
   "source": [
    "one_line_4 = [130, 484, 678]\n",
    "two_line_4 = [195]\n",
    "df_4 = process_pdf_book_4_and_5('data/book4.pdf', one_line_4, two_line_4)\n",
    "df_4['label'] = 4"
   ]
  },
  {
   "cell_type": "code",
   "execution_count": 16,
   "id": "c0dce15f-b2fb-4662-b56e-f5c8e72f14b7",
   "metadata": {},
   "outputs": [],
   "source": [
    "one_line_5 = [51, 100, 238, 426, 542, 552, 595, 751, 813, 840]\n",
    "two_line_5 = [123, 425]\n",
    "df_5 = process_pdf_book_4_and_5('data/book5.pdf', one_line_5, two_line_5)\n",
    "df_5['label'] = 5"
   ]
  },
  {
   "cell_type": "code",
   "execution_count": 17,
   "id": "540ff4af-9f30-46ed-a0ac-326b67b2a8bb",
   "metadata": {},
   "outputs": [],
   "source": [
    "df_6 = process_pdf_book_2_6('data/book6.pdf', remove_header_for_book_6)\n",
    "df_6['label'] = 6"
   ]
  },
  {
   "cell_type": "code",
   "execution_count": 18,
   "id": "6a79a44f-460e-4c2f-87c1-eb686fd8d624",
   "metadata": {},
   "outputs": [],
   "source": [
    "df_7 = process_pdf_book_7('data/book7.pdf')\n",
    "df_7['label'] = 7"
   ]
  },
  {
   "cell_type": "code",
   "execution_count": 19,
   "id": "27fa847b-380e-4cd9-8909-07e2fe50ad3b",
   "metadata": {},
   "outputs": [
    {
     "name": "stdout",
     "output_type": "stream",
     "text": [
      "   Page                                               Text  \\\n",
      "2     5  M r. and Mrs. Dursley, of number four, Privet ...   \n",
      "3     6  something peculiar — a cat reading a map. For ...   \n",
      "4     7  “ — yes, their son, Harry —” Mr. Dursley stopp...   \n",
      "5     8  learned a new word (“Won’t!”). Mr. Dursley tri...   \n",
      "6     9  agree.” He didn’t say another word on the subj...   \n",
      "\n",
      "                                              Tokens  label  \n",
      "2  [M, Dursley, number, Privet, Drive, proud, per...      1  \n",
      "3  [peculiar, cat, read, map, second, Dursley, re...      1  \n",
      "4  [yes, son, Harry, Dursley, stop, dead, Fear, f...      1  \n",
      "5  [learn, new, word, wo, Dursley, try, act, norm...      1  \n",
      "6  [agree, word, subject, go, upstairs, bed, Durs...      1  \n"
     ]
    }
   ],
   "source": [
    "print(df_1.head())"
   ]
  },
  {
   "cell_type": "code",
   "execution_count": 20,
   "id": "4ffb0b75-3002-4ce9-a61b-72b01ca734f5",
   "metadata": {},
   "outputs": [
    {
     "name": "stdout",
     "output_type": "stream",
     "text": [
      "“What does it say?” Hermione asked breathlessly. The letter was very short, and looked as though it had been scrawled in a great hurry. Harry read it aloud: Harry — I’m flying north immediately. This news about your scar is the latest in a series of strange rumors that have reached me here. If it hurts again, go straight to Dumbledore — they’re saying he’s got Mad-Eye out of retirement, which means he’s reading the signs, even if no one else is. I’ll be in touch soon. My best to Ron and Hermione. Keep your eyes open, Harry. Harry looked up at Ron and Hermione, who stared back at him. “He’s flying north?” Hermione whispered. “He’s coming back?” “Dumbledore’s reading what signs?” said Ron, looking perplexed. “Harry — what’s up?” For Harry had just hit himself in the forehead with his fist, jolting Hedwig out of his lap. “I shouldn’t’ve told him!” Harry said furiously. “What are you on about?” said Ron in surprise. “It’s made him think he’s got to come back!” said Harry, now slamming his fist on the table so that Hedwig landed on the back of Ron’s chair, hooting indignantly. “Coming back, because he thinks I’m in trouble! And there’s nothing wrong with me! And I haven’t got anything for you,” Harry snapped at Hedwig, who was clicking her beak expectantly, “you’ll have to go up to the Owlery if you want food.”\n"
     ]
    }
   ],
   "source": [
    "print(df_4[df_4['Page'] == 242]['Text'].iloc[0])"
   ]
  },
  {
   "cell_type": "code",
   "execution_count": 21,
   "id": "31aaf4a2-15b6-4524-a336-0db3c60ae8c5",
   "metadata": {},
   "outputs": [
    {
     "name": "stdout",
     "output_type": "stream",
     "text": [
      "['Harry', 'brain', 'fill', 'sort', 'blank', 'buzzing', 'allow', 'room', 'concentration', 'stare', 'hopelessly', 'index', 'Basic', 'Hexes', 'busy', 'vex', 'instant', 'scalping', 'dragon', 'hair', 'pepper', 'breath', 'probably', 'increase', 'dragon', 'firepower', 'horn', 'tongue', 'need', 'extra', 'weapon', 'oh', 'read', 'stupid', 'ship', 'say', 'Hermione', 'irritably', 'Viktor', 'Krum', 'slouch', 'cast', 'surly', 'look', 'pair', 'settle', 'distant', 'corner', 'pile', 'book', 'come', 'Harry', 'common', 'room', 'fan', 'moment', 'twitter', 'away', 'sure', 'leave', 'library', 'gang', 'girl', 'tiptoe', 'past', 'wear', 'Bulgaria', 'scarf', 'tie', 'waist', 'Harry', 'barely', 'sleep', 'night', 'awake', 'Monday', 'morning', 'seriously', 'consider', 'time', 'run', 'away', 'hogwart', 'look', 'Great', 'Hall', 'breakfast', 'time', 'think', 'leave', 'castle', 'mean', 'know', 'place', 'happy', 'suppose', 'happy', 'parent', 'remember', 'knowledge', 'face', 'dragon', 'Privet', 'Drive', 'Dudley', 'good', 'know', 'feel', 'slightly', 'calm', 'finish', 'bacon', 'difficulty', 'throat', 'work', 'Hermione', 'get', 'see', 'Cedric', 'Diggory', 'leave', 'Hufflepuff', 'table']\n"
     ]
    }
   ],
   "source": [
    "print(df_4[df_4['Page'] == 355]['Tokens'].iloc[0])"
   ]
  },
  {
   "cell_type": "markdown",
   "id": "5841d168-242a-40bf-8f68-83a5ca5b5353",
   "metadata": {},
   "source": [
    "## Part 4: Let's get to work!\n",
    "From now I consider the data preprocessed and ready to work with (finally...) This first cell creates dataframes with all the rows from every book, both sorted and unsorted:"
   ]
  },
  {
   "cell_type": "code",
   "execution_count": 22,
   "id": "d79554f8-5c96-4c8a-b1b9-b6b9418ad3bb",
   "metadata": {},
   "outputs": [],
   "source": [
    "# Merge all dataframes into one long df\n",
    "df_sorted = pd.concat([df_1, df_2, df_3, df_4, df_5, df_6, df_7], ignore_index=True)\n",
    "\n",
    "# Create a version where the order of rows is random.\n",
    "random_seed = 1111\n",
    "df_random = df_sorted.sample(frac=1, random_state=random_seed).reset_index(drop=True)"
   ]
  },
  {
   "cell_type": "code",
   "execution_count": 23,
   "id": "9a7a3323-6652-4744-b2b7-8ff46df95e1a",
   "metadata": {},
   "outputs": [
    {
     "name": "stdout",
     "output_type": "stream",
     "text": [
      "   Page                                               Text  \\\n",
      "0    57  “I said I would buy you a racing broom,” said ...   \n",
      "1   253  Harry, meanwhile, had to fit in his homework a...   \n",
      "2   644  Harry and Cedric stood there in the darkness f...   \n",
      "3   198  \"With an incantation, which will work only if ...   \n",
      "4   346  “Oh, ha ha …” Enjoying the fact that they coul...   \n",
      "\n",
      "                                              Tokens  label  \n",
      "0  [say, buy, racing, broom, say, father, drum, f...      2  \n",
      "1  [Harry, fit, homework, Quidditch, practice, da...      3  \n",
      "2  [Harry, Cedric, stand, darkness, moment, look,...      4  \n",
      "3  [incantation, work, concentrate, single, happy...      3  \n",
      "4  [oh, ha, ha, enjoy, fact, speak, normally, way...      6  \n"
     ]
    }
   ],
   "source": [
    "print(df_random.head())"
   ]
  },
  {
   "cell_type": "markdown",
   "id": "82f87f6a-39fe-4a98-ad6c-c24a0dba47e8",
   "metadata": {},
   "source": [
    "### The merged dataframe"
   ]
  },
  {
   "cell_type": "code",
   "execution_count": 24,
   "id": "72c3c779-6f15-4f1f-a812-7a579ef8289e",
   "metadata": {},
   "outputs": [
    {
     "data": {
      "text/plain": [
       "Text(0.5, 1.0, 'Number of rows for each book')"
      ]
     },
     "execution_count": 24,
     "metadata": {},
     "output_type": "execute_result"
    },
    {
     "data": {
      "image/png": "[encoded data removed]",
      "text/plain": [
       "<Figure size 640x480 with 1 Axes>"
      ]
     },
     "metadata": {},
     "output_type": "display_data"
    }
   ],
   "source": [
    "import matplotlib.pyplot as plt\n",
    "import pandas as pd\n",
    "#import seaborn as sns\n",
    "\n",
    "df_random['label'].value_counts().plot(kind='bar')\n",
    "plt.title('Number of rows for each book')"
   ]
  },
  {
   "cell_type": "markdown",
   "id": "850d1007-b3dd-4f13-bedc-526793617b3c",
   "metadata": {},
   "source": [
    "### 4.1 - The first baseline\n",
    "Since the books are of different length, we define the first baseline as the largest books share in the total amount of pages."
   ]
  },
  {
   "cell_type": "code",
   "execution_count": 25,
   "id": "82fa37a0-0ff1-4e56-a793-961129c782c6",
   "metadata": {},
   "outputs": [
    {
     "name": "stdout",
     "output_type": "stream",
     "text": [
      "Total length of df: 4039\n",
      "Most frequent book count: 880\n",
      "Baseline accuracy: 0.21787571180985393\n"
     ]
    }
   ],
   "source": [
    "total_samples = len(df_random)\n",
    "\n",
    "most_frequent_book_count = df_random['label'].value_counts().max()\n",
    "\n",
    "# Define the baseline accuracy, always predicting book 5.\n",
    "baseline_accuracy = most_frequent_book_count / total_samples\n",
    "\n",
    "print(\"Total length of df:\", total_samples)\n",
    "print(\"Most frequent book count:\", most_frequent_book_count)\n",
    "print(\"Baseline accuracy:\", baseline_accuracy)\n"
   ]
  },
  {
   "cell_type": "code",
   "execution_count": 26,
   "id": "0e779275-d792-48e0-8cf3-ee8de87cc5b5",
   "metadata": {},
   "outputs": [
    {
     "name": "stdout",
     "output_type": "stream",
     "text": [
      "Length of training set: 3029\n",
      "Length of test set: 1010\n",
      "['1', '2', '3', '4', '5', '6', '7']\n"
     ]
    }
   ],
   "source": [
    "from sklearn.model_selection import train_test_split\n",
    "\n",
    "# Split the data\n",
    "df_training, df_test = train_test_split(df_random, test_size=0.25, random_state=42)\n",
    "\n",
    "# Check the lengths of the training and test sets\n",
    "len_training = len(df_training)\n",
    "len_test = len(df_test)\n",
    "labels = [str(label) for label in sorted(df_training['label'].unique())]\n",
    "\n",
    "print(\"Length of training set:\", len_training)\n",
    "print(\"Length of test set:\", len_test)\n",
    "print(labels)"
   ]
  },
  {
   "cell_type": "code",
   "execution_count": 27,
   "id": "349875b4-573c-4f7a-91ae-63ca4d97284c",
   "metadata": {},
   "outputs": [
    {
     "name": "stdout",
     "output_type": "stream",
     "text": [
      "      Page                                               Text  \\\n",
      "3138   770  “Who are you?” said a voice. Harry looked left...   \n",
      "149    215  When the bell rang to signal the start of afte...   \n",
      "2023   278  she and Dean were cozily closeted in Madam Pud...   \n",
      "2446   320  Harry had no reason to regret his choice once ...   \n",
      "3201   511  Hermione pulled it toward her and began siphon...   \n",
      "\n",
      "                                                 Tokens  label  \n",
      "3138  [say, voice, Harry, look, leave, chestnut, bod...      5  \n",
      "149   [bell, ring, signal, start, afternoon, lesson,...      4  \n",
      "2023  [Dean, cozily, closet, Madam, Puddifoot, Tea, ...      6  \n",
      "2446  [Harry, reason, regret, choice, see, Dean, fly...      6  \n",
      "3201  [Hermione, pull, begin, siphon, ink, wand, go,...      6  \n"
     ]
    }
   ],
   "source": [
    "print(df_test.head())"
   ]
  },
  {
   "cell_type": "markdown",
   "id": "0322d823-f2ec-4cc4-8fcb-448b2788d55b",
   "metadata": {},
   "source": [
    "### 4.2 - Naive Bayes Classifier"
   ]
  },
  {
   "cell_type": "code",
   "execution_count": 28,
   "id": "f2969298-f92d-4f15-8ceb-edd484e9f9ff",
   "metadata": {},
   "outputs": [
    {
     "name": "stdout",
     "output_type": "stream",
     "text": [
      "              precision    recall  f1-score   support\n",
      "\n",
      "           1       0.85      0.42      0.56        52\n",
      "           2       0.92      0.36      0.51        98\n",
      "           3       0.81      0.56      0.66        89\n",
      "           4       0.88      0.75      0.81       196\n",
      "           5       0.53      0.92      0.67       218\n",
      "           6       0.83      0.73      0.77       170\n",
      "           7       0.92      0.93      0.92       187\n",
      "\n",
      "    accuracy                           0.74      1010\n",
      "   macro avg       0.82      0.67      0.70      1010\n",
      "weighted avg       0.80      0.74      0.74      1010\n",
      "\n"
     ]
    }
   ],
   "source": [
    "from sklearn.pipeline import make_pipeline\n",
    "from sklearn.naive_bayes import MultinomialNB\n",
    "from sklearn.feature_extraction.text import CountVectorizer\n",
    "from sklearn.metrics import classification_report\n",
    "clf_NB = make_pipeline(CountVectorizer(tokenizer=tokenization), MultinomialNB())\n",
    "clf_NB.fit(df_training['Text'], df_training['label'])\n",
    "\n",
    "NB_predictions = clf_NB.predict(df_test['Text'])\n",
    "\n",
    "report_NB = classification_report(df_test['label'], NB_predictions, target_names=labels)\n",
    "\n",
    "print(report_NB)"
   ]
  },
  {
   "cell_type": "markdown",
   "id": "e5491706-a6b1-4445-ae2e-b38fc6820881",
   "metadata": {},
   "source": [
    "#### COMMENT\n",
    "As we can see, we obtain a high accuracy when just applying a Naive Bayes classifier to the text. This is not strange, since many named entities and such will be over-represented in some books."
   ]
  },
  {
   "cell_type": "markdown",
   "id": "27dbef04-1561-4e7c-b78d-0009083ec8f1",
   "metadata": {},
   "source": [
    "### 4.3 - KNearest classifier"
   ]
  },
  {
   "cell_type": "code",
   "execution_count": 29,
   "id": "61592556-3db1-4030-b5e5-84b3afe49d95",
   "metadata": {},
   "outputs": [
    {
     "name": "stdout",
     "output_type": "stream",
     "text": [
      "              precision    recall  f1-score   support\n",
      "\n",
      "           1       0.67      0.12      0.20        52\n",
      "           2       0.19      0.32      0.24        98\n",
      "           3       0.32      0.13      0.19        89\n",
      "           4       0.39      0.31      0.35       196\n",
      "           5       0.41      0.20      0.27       218\n",
      "           6       0.30      0.59      0.39       170\n",
      "           7       0.43      0.47      0.45       187\n",
      "\n",
      "    accuracy                           0.34      1010\n",
      "   macro avg       0.39      0.30      0.30      1010\n",
      "weighted avg       0.38      0.34      0.32      1010\n",
      "\n"
     ]
    }
   ],
   "source": [
    "from sklearn.neighbors import KNeighborsClassifier\n",
    "\n",
    "clf_KNN = make_pipeline(CountVectorizer(), KNeighborsClassifier(n_neighbors=9))\n",
    "clf_KNN.fit(df_training['Text'], df_training['label'])\n",
    "\n",
    "KNN_predictions = clf_KNN.predict(df_test['Text'])\n",
    "\n",
    "report_KNN = classification_report(df_test['label'], KNN_predictions, target_names=labels)\n",
    "print(report_KNN)"
   ]
  },
  {
   "cell_type": "markdown",
   "id": "b0574358-dc13-4898-9859-80dd6af191ba",
   "metadata": {},
   "source": [
    "### 4.4 - SVM Classifier"
   ]
  },
  {
   "cell_type": "code",
   "execution_count": 30,
   "id": "99974e5d-312d-45c0-8d64-bf36bcd67e58",
   "metadata": {},
   "outputs": [
    {
     "name": "stderr",
     "output_type": "stream",
     "text": [
      "/Users/axelandersson/anaconda3/envs/tdde16-project/lib/python3.11/site-packages/sklearn/feature_extraction/text.py:525: UserWarning: The parameter 'token_pattern' will not be used since 'tokenizer' is not None'\n",
      "  warnings.warn(\n"
     ]
    },
    {
     "name": "stdout",
     "output_type": "stream",
     "text": [
      "              precision    recall  f1-score   support\n",
      "\n",
      "           1       0.87      0.75      0.80        52\n",
      "           2       0.75      0.79      0.77        98\n",
      "           3       0.82      0.78      0.80        89\n",
      "           4       0.86      0.80      0.83       196\n",
      "           5       0.74      0.88      0.80       218\n",
      "           6       0.85      0.84      0.84       170\n",
      "           7       0.95      0.88      0.91       187\n",
      "\n",
      "    accuracy                           0.83      1010\n",
      "   macro avg       0.83      0.81      0.82      1010\n",
      "weighted avg       0.84      0.83      0.83      1010\n",
      "\n"
     ]
    }
   ],
   "source": [
    "from sklearn.svm import SVC\n",
    "from sklearn.pipeline import make_pipeline\n",
    "from sklearn.feature_extraction.text import TfidfVectorizer\n",
    "from sklearn.metrics import classification_report\n",
    "\n",
    "clf_SVM = make_pipeline(TfidfVectorizer(stop_words='english', tokenizer=tokenization), SVC(kernel='linear'))\n",
    "clf_SVM.fit(df_training['Text'], df_training['label'])\n",
    "\n",
    "SVM_predictions = clf_SVM.predict(df_test['Text'])\n",
    "\n",
    "report_SVM = classification_report(df_test['label'], SVM_predictions, target_names=labels)\n",
    "print(report_SVM)"
   ]
  },
  {
   "cell_type": "code",
   "execution_count": 31,
   "id": "66fb472b-a496-493f-89d3-b4b687556e26",
   "metadata": {},
   "outputs": [
    {
     "data": {
      "text/plain": [
       "<sklearn.metrics._plot.confusion_matrix.ConfusionMatrixDisplay at 0x32ab2c990>"
      ]
     },
     "execution_count": 31,
     "metadata": {},
     "output_type": "execute_result"
    },
    {
     "data": {
      "image/png": "[encoded data removed]",
      "text/plain": [
       "<Figure size 640x480 with 2 Axes>"
      ]
     },
     "metadata": {},
     "output_type": "display_data"
    }
   ],
   "source": [
    "from sklearn.metrics import confusion_matrix, ConfusionMatrixDisplay\n",
    "\n",
    "conf_matrix = confusion_matrix(df_test['label'], SVM_predictions, labels=clf_SVM.classes_)\n",
    "\n",
    "disp = ConfusionMatrixDisplay(confusion_matrix=conf_matrix, display_labels=clf_SVM.classes_)\n",
    "disp.plot()"
   ]
  },
  {
   "cell_type": "markdown",
   "id": "e89481bf-e734-437d-95aa-1bbd5880e80d",
   "metadata": {},
   "source": [
    "### 4.5 - Tree based classifiers"
   ]
  },
  {
   "cell_type": "code",
   "execution_count": 32,
   "id": "46903331-3fa1-4338-8ee7-1d3a85709b5c",
   "metadata": {},
   "outputs": [
    {
     "name": "stdout",
     "output_type": "stream",
     "text": [
      "Fitting 5 folds for each of 48 candidates, totalling 240 fits\n",
      "clf__max_depth: None\n",
      "clf__n_estimators: 200\n",
      "tfidf__max_df: 0.5\n",
      "tfidf__ngram_range: (1, 1)\n",
      "              precision    recall  f1-score   support\n",
      "\n",
      "           1       1.00      0.19      0.32        52\n",
      "           2       1.00      0.41      0.58        98\n",
      "           3       1.00      0.37      0.54        89\n",
      "           4       0.83      0.72      0.77       196\n",
      "           5       0.53      0.90      0.67       218\n",
      "           6       0.69      0.78      0.73       170\n",
      "           7       0.90      0.93      0.92       187\n",
      "\n",
      "    accuracy                           0.72      1010\n",
      "   macro avg       0.85      0.62      0.65      1010\n",
      "weighted avg       0.80      0.72      0.71      1010\n",
      "\n"
     ]
    }
   ],
   "source": [
    "from sklearn.model_selection import GridSearchCV\n",
    "from sklearn.ensemble import RandomForestClassifier\n",
    "from sklearn.pipeline import Pipeline\n",
    "from sklearn.feature_extraction.text import TfidfVectorizer\n",
    "\n",
    "# Define the pipeline\n",
    "pipeline = Pipeline([\n",
    "    ('tfidf', TfidfVectorizer()),\n",
    "    ('clf', RandomForestClassifier())\n",
    "])\n",
    "\n",
    "# the parameters for grid search, just chose the tfidf__max_df as i did in a lab. clf__n_estimators was chosen arbitrary, with some \n",
    "# insights from stackoveflow.\n",
    "parameters = {\n",
    "    'tfidf__max_df': (0.5, 0.75, 1.0),\n",
    "    'tfidf__ngram_range': [(1, 1), (1, 2)],  # unigrams or bigrams\n",
    "    'clf__n_estimators': [100, 200],\n",
    "    'clf__max_depth': [None, 10, 20, 30]\n",
    "}\n",
    "\n",
    "grid_search = GridSearchCV(pipeline, parameters, n_jobs=-1, verbose=1, scoring='accuracy', cv=5)\n",
    "grid_search.fit(df_training['Text'], df_training['label'])\n",
    "\n",
    "# Best parameters\n",
    "best_parameters = grid_search.best_estimator_.get_params()\n",
    "for param_name in sorted(parameters.keys()):\n",
    "    print(f\"{param_name}: {best_parameters[param_name]}\")\n",
    "\n",
    "# Evaluate the best model on the test set\n",
    "best_clf = grid_search.best_estimator_\n",
    "predictions = best_clf.predict(df_test['Text'])\n",
    "report_RF = classification_report(df_test['label'], predictions, target_names=labels)\n",
    "print(report_RF)\n"
   ]
  },
  {
   "cell_type": "markdown",
   "id": "386aa1f0-81e1-415b-8c2e-68478085654c",
   "metadata": {},
   "source": [
    "### COMMENTS\n",
    "We see that all classifiers managed to obtain reasonable results, except for the KNearest. SVM achieved an accuracy of 0.87, considered high even though the pattern is simple to identify. "
   ]
  },
  {
   "cell_type": "code",
   "execution_count": 33,
   "id": "63eb7b9e-1dfa-4684-afd4-91af9ddb5b48",
   "metadata": {},
   "outputs": [
    {
     "data": {
      "image/png": "[encoded data removed]",
      "text/plain": [
       "<Figure size 1000x600 with 1 Axes>"
      ]
     },
     "metadata": {},
     "output_type": "display_data"
    }
   ],
   "source": [
    "import matplotlib.pyplot as plt\n",
    "from sklearn.metrics import accuracy_score\n",
    "\n",
    "# Accuracy for every classifier\n",
    "accuracy_NB = accuracy_score(df_test['label'], clf_NB.predict(df_test['Text']))\n",
    "accuracy_KNN = accuracy_score(df_test['label'], clf_KNN.predict(df_test['Text']))\n",
    "accuracy_SVM = accuracy_score(df_test['label'], clf_SVM.predict(df_test['Text']))\n",
    "accuracy_RF = accuracy_score(df_test['label'], best_clf.predict(df_test['Text']))\n",
    "\n",
    "# Create lists for plotting\n",
    "classifiers = ['Naive Bayes', 'KNN', 'SVM', 'Random Forest']\n",
    "accuracies = [accuracy_NB, accuracy_KNN, accuracy_SVM, accuracy_RF]\n",
    "baseline = [baseline_accuracy] * len(classifiers)  # Assuming baseline_accuracy is calculated\n",
    "\n",
    "# Create bar chart\n",
    "plt.figure(figsize=(10, 6))\n",
    "plt.bar(classifiers, accuracies, color='skyblue')\n",
    "plt.axhline(y=baseline_accuracy, color='r', linestyle='-', label=f'Baseline ({baseline_accuracy:.2f})')\n",
    "plt.xlabel('Classifiers')\n",
    "plt.ylabel('Accuracy')\n",
    "plt.title('Comparison of Classifier Accuracies')\n",
    "plt.legend()\n",
    "plt.show()"
   ]
  },
  {
   "cell_type": "markdown",
   "id": "1385c01c-052c-4ee5-abea-437a7cb88aaf",
   "metadata": {},
   "source": [
    "## Part 5 Balanced data sets\n",
    "I will now not only randomize the splitting into training and test, but make sure the representation of each book i fractionally equal.\n",
    "Has this been a problem in part 4? Maybe not, but it it reasonable to make these adjustments to investigate if it changes anything!"
   ]
  },
  {
   "cell_type": "code",
   "execution_count": 34,
   "id": "03bdf61e-3aa0-411d-82bd-ce82a352fd4b",
   "metadata": {},
   "outputs": [],
   "source": [
    "from sklearn.model_selection import train_test_split\n",
    "\n",
    "# Split the data with stratification, meaning the representation fraction is stil the same as in the entire dataset.\n",
    "df_training_strat, df_test_strat = train_test_split(df_random, test_size=0.25, random_state=42, stratify=df_random['label'])"
   ]
  },
  {
   "cell_type": "markdown",
   "id": "84bd252e-41be-49ca-b37f-fda84b4adb97",
   "metadata": {},
   "source": [
    "### 5.1 - Naive Bayes and SVM with stratified data"
   ]
  },
  {
   "cell_type": "code",
   "execution_count": 35,
   "id": "0df84361-ee97-428b-ac0a-3caaf9e784ec",
   "metadata": {},
   "outputs": [
    {
     "name": "stdout",
     "output_type": "stream",
     "text": [
      "              precision    recall  f1-score   support\n",
      "\n",
      "           1       0.79      0.38      0.51        50\n",
      "           2       0.92      0.39      0.55        93\n",
      "           3       0.86      0.47      0.61        92\n",
      "           4       0.81      0.72      0.76       186\n",
      "           5       0.52      0.93      0.67       220\n",
      "           6       0.84      0.69      0.76       181\n",
      "           7       0.91      0.93      0.92       188\n",
      "\n",
      "    accuracy                           0.73      1010\n",
      "   macro avg       0.81      0.64      0.68      1010\n",
      "weighted avg       0.79      0.73      0.72      1010\n",
      "\n"
     ]
    }
   ],
   "source": [
    "clf_NB_stratified = make_pipeline(CountVectorizer(tokenizer=tokenization), MultinomialNB())\n",
    "clf_NB_stratified.fit(df_training_strat['Text'], df_training_strat['label'])\n",
    "\n",
    "NB_predictions_strat = clf_NB_stratified.predict(df_test_strat['Text'])\n",
    "\n",
    "report_NB_strat = classification_report(df_test_strat['label'], NB_predictions_strat, target_names=labels)\n",
    "\n",
    "print(report_NB_strat)"
   ]
  },
  {
   "cell_type": "code",
   "execution_count": 36,
   "id": "9be9e211-d634-49e7-acd1-99d845fe5b2b",
   "metadata": {},
   "outputs": [
    {
     "name": "stderr",
     "output_type": "stream",
     "text": [
      "/Users/axelandersson/anaconda3/envs/tdde16-project/lib/python3.11/site-packages/sklearn/feature_extraction/text.py:525: UserWarning: The parameter 'token_pattern' will not be used since 'tokenizer' is not None'\n",
      "  warnings.warn(\n"
     ]
    },
    {
     "name": "stdout",
     "output_type": "stream",
     "text": [
      "              precision    recall  f1-score   support\n",
      "\n",
      "           1       0.91      0.78      0.84        50\n",
      "           2       0.81      0.72      0.76        93\n",
      "           3       0.89      0.77      0.83        92\n",
      "           4       0.78      0.81      0.79       186\n",
      "           5       0.73      0.84      0.78       220\n",
      "           6       0.90      0.87      0.88       181\n",
      "           7       0.96      0.92      0.94       188\n",
      "\n",
      "    accuracy                           0.83      1010\n",
      "   macro avg       0.85      0.82      0.83      1010\n",
      "weighted avg       0.84      0.83      0.84      1010\n",
      "\n"
     ]
    }
   ],
   "source": [
    "clf_SVM_stratified = make_pipeline(TfidfVectorizer(stop_words=\"english\", tokenizer=tokenization), SVC(kernel='linear'))\n",
    "clf_SVM_stratified.fit(df_training_strat['Text'], df_training_strat['label'])\n",
    "\n",
    "SVM_predictions_strat = clf_SVM_stratified.predict(df_test_strat['Text'])\n",
    "\n",
    "report_SVM_strat = classification_report(df_test_strat['label'], SVM_predictions_strat, target_names=labels)\n",
    "print(report_SVM_strat)"
   ]
  },
  {
   "cell_type": "markdown",
   "id": "15fe9574-0ede-4402-a5bc-589601c3318f",
   "metadata": {},
   "source": [
    "### Comments\n",
    "By stratifying the data, we managed to obtain even slightly higher accuracy. Kernels linear, sigmoid and poly was tested but linear gave the best results!"
   ]
  },
  {
   "cell_type": "markdown",
   "id": "55d3393b-9b6e-403a-bf1d-d4f938164e65",
   "metadata": {},
   "source": [
    "### 5.2 - Balancing the data with equal support\n",
    "To further evaluate the performance of the classifiers, the data will be manipulated again with undersampling to have equal representation."
   ]
  },
  {
   "cell_type": "code",
   "execution_count": 37,
   "id": "4c67b84f-79ed-4162-b402-088f729930b2",
   "metadata": {},
   "outputs": [
    {
     "name": "stdout",
     "output_type": "stream",
     "text": [
      "Balanced Training set distribution:\n",
      " label\n",
      "3    157\n",
      "7    151\n",
      "6    150\n",
      "2    150\n",
      "5    149\n",
      "4    146\n",
      "1    141\n",
      "Name: count, dtype: int64\n",
      "Balanced Test set distribution:\n",
      " label\n",
      "1    58\n",
      "4    53\n",
      "5    50\n",
      "2    49\n",
      "6    49\n",
      "7    48\n",
      "3    42\n",
      "Name: count, dtype: int64\n"
     ]
    }
   ],
   "source": [
    "# Find the minimum support for any book\n",
    "min_support = df_random['label'].value_counts().min()\n",
    "\n",
    "# Randomly sample pages from each book\n",
    "sampled_dfs = []\n",
    "for book_label in df_random['label'].unique():\n",
    "    book_sample = df_random[df_random['label'] == book_label].sample(n=min_support, random_state=random_seed)\n",
    "    sampled_dfs.append(book_sample)\n",
    "\n",
    "balanced_df = pd.concat(sampled_dfs, ignore_index=True)\n",
    "\n",
    "df_training_balanced, df_test_balanced = train_test_split(balanced_df, test_size=0.25, random_state=111)\n",
    "\n",
    "# Verifying the distributions\n",
    "print(\"Balanced Training set distribution:\\n\", df_training_balanced['label'].value_counts())\n",
    "print(\"Balanced Test set distribution:\\n\", df_test_balanced['label'].value_counts())\n"
   ]
  },
  {
   "cell_type": "markdown",
   "id": "bc7a814b-ca5c-40da-8397-604833e6b782",
   "metadata": {},
   "source": [
    "### 5.3 - Classify with balanced data"
   ]
  },
  {
   "cell_type": "code",
   "execution_count": 38,
   "id": "a8be738d-9709-4b23-ba3a-999f241e5185",
   "metadata": {},
   "outputs": [
    {
     "name": "stdout",
     "output_type": "stream",
     "text": [
      "              precision    recall  f1-score   support\n",
      "\n",
      "           1       0.53      1.00      0.69        58\n",
      "           2       0.94      0.59      0.72        49\n",
      "           3       0.64      0.64      0.64        42\n",
      "           4       0.90      0.53      0.67        53\n",
      "           5       0.63      0.78      0.70        50\n",
      "           6       0.90      0.53      0.67        49\n",
      "           7       0.86      0.79      0.83        48\n",
      "\n",
      "    accuracy                           0.70       349\n",
      "   macro avg       0.77      0.70      0.70       349\n",
      "weighted avg       0.77      0.70      0.70       349\n",
      "\n"
     ]
    }
   ],
   "source": [
    "clf_NB_balanced = make_pipeline(CountVectorizer(), MultinomialNB())\n",
    "clf_NB_balanced.fit(df_training_balanced['Text'], df_training_balanced['label'])\n",
    "\n",
    "NB_predictions_balanced = clf_NB_balanced.predict(df_test_balanced['Text'])\n",
    "\n",
    "report_NB_balanced = classification_report(df_test_balanced['label'], NB_predictions_balanced, target_names=labels)\n",
    "\n",
    "print(report_NB_balanced)"
   ]
  },
  {
   "cell_type": "code",
   "execution_count": 39,
   "id": "0de92a79-162e-4a97-b465-1aa4b1cd2402",
   "metadata": {},
   "outputs": [
    {
     "name": "stderr",
     "output_type": "stream",
     "text": [
      "/Users/axelandersson/anaconda3/envs/tdde16-project/lib/python3.11/site-packages/sklearn/feature_extraction/text.py:525: UserWarning: The parameter 'token_pattern' will not be used since 'tokenizer' is not None'\n",
      "  warnings.warn(\n"
     ]
    },
    {
     "name": "stdout",
     "output_type": "stream",
     "text": [
      "              precision    recall  f1-score   support\n",
      "\n",
      "           1       0.79      0.93      0.86        58\n",
      "           2       0.72      0.90      0.80        49\n",
      "           3       0.73      0.71      0.72        42\n",
      "           4       0.84      0.58      0.69        53\n",
      "           5       0.67      0.74      0.70        50\n",
      "           6       0.80      0.76      0.78        49\n",
      "           7       0.95      0.81      0.88        48\n",
      "\n",
      "    accuracy                           0.78       349\n",
      "   macro avg       0.79      0.78      0.78       349\n",
      "weighted avg       0.79      0.78      0.78       349\n",
      "\n"
     ]
    }
   ],
   "source": [
    "clf_SVM_balanced = make_pipeline(TfidfVectorizer(stop_words=\"english\", tokenizer=tokenization), SVC(kernel='linear'))\n",
    "clf_SVM_balanced.fit(df_training_balanced['Text'], df_training_balanced['label'])\n",
    "\n",
    "SVM_predictions_balanced = clf_SVM_balanced.predict(df_test_balanced['Text'])\n",
    "\n",
    "report_SVM_balanced = classification_report(df_test_balanced['label'], SVM_predictions_balanced, target_names=labels)\n",
    "print(report_SVM_balanced)"
   ]
  },
  {
   "cell_type": "markdown",
   "id": "c95d229b-6788-47af-b67a-7da1cf972719",
   "metadata": {},
   "source": [
    "## Part 6 - Clustering \n",
    "In order to get some further understanding of the key tokens etc behind the classifications, I will perform some simple clustering and topic modelling and interpret the results."
   ]
  },
  {
   "cell_type": "code",
   "execution_count": 92,
   "id": "13292431-4f00-4718-8d55-c7b9791e4c9f",
   "metadata": {},
   "outputs": [],
   "source": [
    "from sklearn.feature_extraction.text import TfidfVectorizer\n",
    "from sklearn.cluster import KMeans\n",
    "\n",
    "corpus = df_random['Text']\n",
    "\n",
    "vectorizer = TfidfVectorizer(stop_words='english', tokenizer=tokenization)\n",
    "X = vectorizer.fit_transform(corpus)\n",
    "\n",
    "num_clusters = 7\n",
    "kmeans = KMeans(n_clusters=num_clusters, n_init='auto')\n",
    "clusters = kmeans.fit_predict(X)"
   ]
  },
  {
   "cell_type": "code",
   "execution_count": 93,
   "id": "12c1f40e-df7f-40b8-9be2-c53011933c5d",
   "metadata": {},
   "outputs": [
    {
     "name": "stdout",
     "output_type": "stream",
     "text": [
      "Cluster 0: weasley, mrs, mr, say, harry, fred, george, ron, look, percy, ginny, sirius, arthur, know, hermione, think, crouch, eye, door, like\n",
      "Cluster 1: professor, mcgonagall, say, harry, trelawney, umbridge, snape, dumbledore, look, potter, class, ron, hermione, student, think, tell, lupin, voice, know, eye\n",
      "Cluster 2: harry, say, ron, hermione, look, know, think, come, like, tell, ginny, ask, neville, want, fred, right, time, try, room, door\n",
      "Cluster 3: harry, dumbledore, say, snape, voldemort, know, wand, look, think, eye, sirius, face, hand, death, feel, like, potter, tell, lupin, time\n",
      "Cluster 4: vernon, uncle, dobby, dudley, harry, aunt, petunia, say, dursley, sir, elf, potter, look, marge, winky, house, room, mr, kitchen, letter\n",
      "Cluster 5: malfoy, harry, say, ron, crabbe, slytherin, goyle, hermione, look, wood, gryffindor, team, draco, snape, potter, broom, bludger, snitch, weasley, tell\n",
      "Cluster 6: hagrid, ter, yeh, say, harry, hermione, ron, o, look, know, yer, don, fer, dumbledore, cabin, bin, tell, fang, think, forest\n"
     ]
    }
   ],
   "source": [
    "feature_names = vectorizer.get_feature_names_out()\n",
    "\n",
    "top_terms_per_cluster = {}\n",
    "for i in range(num_clusters):\n",
    "    # Get indices of top features for this cluster\n",
    "    centroid = kmeans.cluster_centers_[i]\n",
    "    top_features_indices = centroid.argsort()[-20:][::-1]  # Get indices of top 20 features\n",
    "\n",
    "    # Map indices to terms to enable interpretation\n",
    "    top_terms = [feature_names[index] for index in top_features_indices]\n",
    "    top_terms_per_cluster[i] = top_terms\n",
    "\n",
    "# Display top terms for each cluster\n",
    "for cluster_num, terms in top_terms_per_cluster.items():\n",
    "    print(f\"Cluster {cluster_num}: {', '.join(terms)}\")\n"
   ]
  },
  {
   "cell_type": "markdown",
   "id": "bb446f18-5579-4dc0-ac41-cfc68ee93257",
   "metadata": {},
   "source": [
    "### Part 6.1 - Cluster Analyzis \n",
    "In order to examine the clustering, we analyze the cluster sizes, the top words and other things that tells us something about the clustering."
   ]
  },
  {
   "cell_type": "code",
   "execution_count": 94,
   "id": "e8e07e58-a211-492f-b5f6-145ebe9b4aff",
   "metadata": {},
   "outputs": [
    {
     "data": {
      "image/png": "[encoded data removed]",
      "text/plain": [
       "<Figure size 1000x600 with 1 Axes>"
      ]
     },
     "metadata": {},
     "output_type": "display_data"
    }
   ],
   "source": [
    "import matplotlib.pyplot as plt\n",
    "import pandas as pd\n",
    "\n",
    "# Compute cluster sizes\n",
    "cluster_sizes = pd.Series(clusters).value_counts().sort_index()\n",
    "\n",
    "# Plot cluster sizes\n",
    "plt.figure(figsize=(10, 6))\n",
    "cluster_sizes.plot(kind='bar', color='skyblue')\n",
    "plt.xlabel('Cluster')\n",
    "plt.ylabel('Number of Data Points')\n",
    "plt.title('Cluster Sizes')\n",
    "plt.xticks(range(num_clusters), [f'Cluster {i}' for i in range(num_clusters)], rotation=0)\n",
    "plt.show()\n"
   ]
  },
  {
   "cell_type": "code",
   "execution_count": 43,
   "id": "73ae4b64-74c0-4c9c-98a2-eebe8c10980a",
   "metadata": {},
   "outputs": [
    {
     "name": "stdout",
     "output_type": "stream",
     "text": [
      "Cluster       0   1    2   3   4    5    6\n",
      "Actual Book                               \n",
      "1             0  15    4  41  23   59   57\n",
      "2            32  17   50  25  14  110  125\n",
      "3             0  36   12  32  16  141  130\n",
      "4             7  36  119  43  19  336  184\n",
      "5             0  50  112  55  30  355  278\n",
      "6            43  66   56  31   8  317  202\n",
      "7             5  43   51  15  14  447  178\n"
     ]
    },
    {
     "data": {
      "image/png": "[encoded data removed]",
      "text/plain": [
       "<Figure size 1000x800 with 2 Axes>"
      ]
     },
     "metadata": {},
     "output_type": "display_data"
    }
   ],
   "source": [
    "import seaborn as sns\n",
    "\n",
    "# Creating a cross-tabulation to investigate results\n",
    "cross_tab = pd.crosstab(df_random['label'], clusters, rownames=['Actual Book'], colnames=['Cluster'])\n",
    "\n",
    "print(cross_tab)\n",
    "\n",
    "# Visualize the cross-tabulation as a heatmap, easy to read.\n",
    "plt.figure(figsize=(10, 8))\n",
    "sns.heatmap(cross_tab, annot=True, cmap=\"YlGnBu\", fmt='g')\n",
    "plt.title(\"Cross tabulation of Actual Books and Clusters\")\n",
    "plt.show()\n"
   ]
  },
  {
   "cell_type": "markdown",
   "id": "7d75e12d-479b-4160-8442-f6cf553c6a31",
   "metadata": {},
   "source": [
    "### 6.2 - Evaluation Metrics\n",
    "These where ran just to check the output really, not a major part of the findings..."
   ]
  },
  {
   "cell_type": "code",
   "execution_count": 44,
   "id": "028b10ad-9044-4034-8dbe-39e07e7b3b31",
   "metadata": {},
   "outputs": [
    {
     "name": "stdout",
     "output_type": "stream",
     "text": [
      "Silhouette Score: 0.009844376477099317\n"
     ]
    }
   ],
   "source": [
    "from sklearn.metrics import silhouette_score\n",
    "\n",
    "silhouette_avg = silhouette_score(X, clusters)\n",
    "print(f\"Silhouette Score: {silhouette_avg}\")\n"
   ]
  },
  {
   "cell_type": "code",
   "execution_count": 45,
   "id": "c2e54e3b-55c4-4062-8a62-3919e9cd90ba",
   "metadata": {},
   "outputs": [
    {
     "name": "stdout",
     "output_type": "stream",
     "text": [
      "Adjusted Rand Index: 0.019150497104344938\n"
     ]
    }
   ],
   "source": [
    "from sklearn.metrics import adjusted_rand_score\n",
    "\n",
    "adjusted_rand_index = adjusted_rand_score(df_random['label'], clusters)\n",
    "print(\"Adjusted Rand Index:\", adjusted_rand_index)\n"
   ]
  },
  {
   "cell_type": "code",
   "execution_count": 46,
   "id": "307c00a4-0b17-4226-b0a1-41d026390b97",
   "metadata": {},
   "outputs": [
    {
     "name": "stdout",
     "output_type": "stream",
     "text": [
      "Homogeneity Score: 0.032088173128753915\n",
      "Completeness Score: 0.03996604241655576\n",
      "V-Measure Score: 0.03559645410412197\n"
     ]
    }
   ],
   "source": [
    "from sklearn.metrics import homogeneity_score, completeness_score, v_measure_score\n",
    "\n",
    "homogeneity = homogeneity_score(df_random['label'], clusters)\n",
    "completeness = completeness_score(df_random['label'], clusters)\n",
    "v_measure = v_measure_score(df_random['label'], clusters)\n",
    "\n",
    "print(\"Homogeneity Score:\", homogeneity)\n",
    "print(\"Completeness Score:\", completeness)\n",
    "print(\"V-Measure Score:\", v_measure)\n"
   ]
  },
  {
   "cell_type": "markdown",
   "id": "72d9da1e-b5d7-465e-90fa-a1f54744b696",
   "metadata": {},
   "source": [
    "### 6.3 - Key words and centroids\n",
    "To understand the poor performance of the clustering algotihm, we need to examine each clusters closer than just applying known metrics. Therefore, we will now move on to extracting key features and interpret them manually!"
   ]
  },
  {
   "cell_type": "code",
   "execution_count": 95,
   "id": "40c2fa98-230c-4717-a74f-207c1eb6a9c4",
   "metadata": {},
   "outputs": [
    {
     "name": "stdout",
     "output_type": "stream",
     "text": [
      "Cluster 0: weasley, mrs, mr, say, harry, fred, george, ron, look, percy\n",
      "Cluster 1: professor, mcgonagall, say, harry, trelawney, umbridge, snape, dumbledore, look, potter\n",
      "Cluster 2: harry, say, ron, hermione, look, know, think, come, like, tell\n",
      "Cluster 3: harry, dumbledore, say, snape, voldemort, know, wand, look, think, eye\n",
      "Cluster 4: vernon, uncle, dobby, dudley, harry, aunt, petunia, say, dursley, sir\n",
      "Cluster 5: malfoy, harry, say, ron, crabbe, slytherin, goyle, hermione, look, wood\n",
      "Cluster 6: hagrid, ter, yeh, say, harry, hermione, ron, o, look, know\n"
     ]
    }
   ],
   "source": [
    "# Calc the centroids of the clusters\n",
    "centroids = kmeans.cluster_centers_\n",
    "\n",
    "# Get feature names from the vectorizer\n",
    "feature_names = vectorizer.get_feature_names_out()\n",
    "\n",
    "n = 10\n",
    "\n",
    "for cluster_num in range(num_clusters):\n",
    "    # Sort the features of each cluster in descending order\n",
    "    sorted_features = centroids[cluster_num].argsort()[::-1]\n",
    "    \n",
    "    top_features = [feature_names[i] for i in sorted_features[:n]]\n",
    "    print(f\"Cluster {cluster_num}: {', '.join(top_features)}\")\n"
   ]
  },
  {
   "cell_type": "markdown",
   "id": "c123cc24-8b82-408f-8910-86fd8f264668",
   "metadata": {},
   "source": [
    "### 6.4 - Hierarchical Clustering"
   ]
  },
  {
   "cell_type": "code",
   "execution_count": 48,
   "id": "5af1da20-7f04-498c-8308-495dfff33652",
   "metadata": {},
   "outputs": [
    {
     "name": "stderr",
     "output_type": "stream",
     "text": [
      "/Users/axelandersson/anaconda3/envs/tdde16-project/lib/python3.11/site-packages/sklearn/feature_extraction/text.py:525: UserWarning: The parameter 'token_pattern' will not be used since 'tokenizer' is not None'\n",
      "  warnings.warn(\n"
     ]
    }
   ],
   "source": [
    "from sklearn.cluster import AgglomerativeClustering\n",
    "\n",
    "corpus = df_random['Text']\n",
    "\n",
    "vectorizer = TfidfVectorizer(stop_words='english', tokenizer=tokenization)\n",
    "X = vectorizer.fit_transform(corpus)\n",
    "\n",
    "# Apply hierarchical clustering. Euclidean metric and ward linkage chosen because most used.\n",
    "num_clusters = 7 \n",
    "hierarchical_clustering = AgglomerativeClustering(n_clusters=num_clusters, metric='euclidean', linkage='ward')\n",
    "clusters_hc = hierarchical_clustering.fit_predict(X.toarray())\n"
   ]
  },
  {
   "cell_type": "code",
   "execution_count": 49,
   "id": "8fcb75dc-7a6c-4b81-8ad3-2f15d146a80f",
   "metadata": {},
   "outputs": [
    {
     "data": {
      "image/png": "[encoded data removed]",
      "text/plain": [
       "<Figure size 1200x800 with 1 Axes>"
      ]
     },
     "metadata": {},
     "output_type": "display_data"
    }
   ],
   "source": [
    "from scipy.cluster.hierarchy import dendrogram, linkage\n",
    "import matplotlib.pyplot as plt\n",
    "\n",
    "Matrix = linkage(X.toarray(), 'ward')\n",
    "\n",
    "# Plot the dendrogram\n",
    "plt.figure(figsize=(12, 8))\n",
    "dendrogram(Matrix, p=num_clusters, truncate_mode='lastp')\n",
    "plt.title(\"Hierarchical Clustering Dendrogram\")\n",
    "plt.xlabel(\"Cluster Size\")\n",
    "plt.ylabel(\"Distance\")\n",
    "plt.show()\n"
   ]
  },
  {
   "cell_type": "code",
   "execution_count": 50,
   "id": "ed5b430a-71fc-4f31-acde-80cc81484e22",
   "metadata": {},
   "outputs": [
    {
     "data": {
      "image/png": "[encoded data removed]",
      "text/plain": [
       "<Figure size 1000x800 with 2 Axes>"
      ]
     },
     "metadata": {},
     "output_type": "display_data"
    }
   ],
   "source": [
    "import pandas as pd\n",
    "import seaborn as sns\n",
    "\n",
    "cross_tab = pd.crosstab(df_random['label'], clusters_hc, rownames=['Actual Book'], colnames=['Cluster'])\n",
    "\n",
    "# Visualize the cross-tabulation as a heatmap, easy to read.\n",
    "plt.figure(figsize=(10, 8))\n",
    "sns.heatmap(cross_tab, annot=True, cmap=\"YlGnBu\", fmt='g')\n",
    "plt.title(\"Cross tabulation of Actual Books and Clusters\")\n",
    "plt.show()\n"
   ]
  },
  {
   "cell_type": "code",
   "execution_count": 51,
   "id": "e9b15c91-358e-4e13-92f1-86ecc1e1afa0",
   "metadata": {},
   "outputs": [],
   "source": [
    "cluster_docs = {}\n",
    "for i in range(num_clusters):\n",
    "    cluster_docs[i] = [corpus[j] for j in range(len(clusters_hc)) if clusters_hc[j] == i]\n"
   ]
  },
  {
   "cell_type": "code",
   "execution_count": 52,
   "id": "2e80d3e7-a551-40e3-bd5c-70348a746648",
   "metadata": {},
   "outputs": [],
   "source": [
    "from collections import Counter\n",
    "\n",
    "# Increase the max_length of the spacy model, could not read it otherwise.\n",
    "nlp.max_length = 5000000 \n",
    "\n",
    "cluster_word_freq = {}\n",
    "for cluster_num, docs in cluster_docs.items():\n",
    "    # Combine all documents in this cluster into one large string\n",
    "    text = \" \".join(docs)\n",
    "    # Tokenize and count word frequencies\n",
    "    tokens = tokenization(text)\n",
    "    word_freq = Counter(tokens)\n",
    "    cluster_word_freq[cluster_num] = word_freq\n",
    "\n"
   ]
  },
  {
   "cell_type": "code",
   "execution_count": 53,
   "id": "425b22be-1eb2-45a9-b543-bce5a36d9306",
   "metadata": {},
   "outputs": [],
   "source": [
    "n = 20\n",
    "top_terms_per_cluster = {}\n",
    "\n",
    "for cluster_num, word_freq in cluster_word_freq.items():\n",
    "    top_terms = [word for word, freq in word_freq.most_common(n)]\n",
    "    top_terms_per_cluster[cluster_num] = top_terms\n"
   ]
  },
  {
   "cell_type": "code",
   "execution_count": 54,
   "id": "6fefc928-c19c-4d9a-a72a-64b0d96a52b6",
   "metadata": {},
   "outputs": [
    {
     "name": "stdout",
     "output_type": "stream",
     "text": [
      "Cluster 0: Harry, say, Ron, Hermione, look, know, think, go, get, like, Professor, come, tell, see, time, Dumbledore, hand, face, eye, right\n",
      "Cluster 1: Harry, say, Snape, Sirius, look, Lupin, know, Hermione, Ron, Dumbledore, think, Kreacher, tell, Professor, go, like, eye, face, come, turn\n",
      "Cluster 2: Harry, say, Dumbledore, look, know, think, wand, Voldemort, Hermione, Ron, tell, eye, like, see, come, hand, go, face, time, get\n",
      "Cluster 3: Dobby, Harry, say, sir, elf, Potter, Winky, look, Hermione, know, like, house, Ron, eye, come, get, head, hand, think, squeak\n",
      "Cluster 4: Harry, Vernon, Uncle, say, Dudley, Aunt, Petunia, look, go, know, room, Dursleys, like, think, come, hand, face, get, Weasley, Marge\n",
      "Cluster 5: Hagrid, Harry, say, Hermione, ter, look, yeh, Ron, know, get, like, come, go, tell, Dumbledore, think, o, eye, see, hear\n",
      "Cluster 6: say, Weasley, Harry, Ron, look, Hermione, get, know, Fred, George, Ginny, think, like, come, tell, hand, go, Malfoy, door, Bill\n"
     ]
    }
   ],
   "source": [
    "for cluster_num, terms in top_terms_per_cluster.items():\n",
    "    print(f\"Cluster {cluster_num}: {', '.join(terms)}\")\n"
   ]
  },
  {
   "cell_type": "code",
   "execution_count": 55,
   "id": "fa681138-5558-4bce-8ef9-a83d600262af",
   "metadata": {},
   "outputs": [
    {
     "name": "stderr",
     "output_type": "stream",
     "text": [
      "/Users/axelandersson/anaconda3/envs/tdde16-project/lib/python3.11/site-packages/sklearn/feature_extraction/text.py:525: UserWarning: The parameter 'token_pattern' will not be used since 'tokenizer' is not None'\n",
      "  warnings.warn(\n"
     ]
    },
    {
     "name": "stdout",
     "output_type": "stream",
     "text": [
      "Topic 0:\n",
      "ron say harry hermione look weasley fred think george know\n",
      "Topic 1:\n",
      "professor harry say mcgonagall uncle vernon umbridge aunt look dudley\n",
      "Topic 2:\n",
      "harry wand say ron look hand hermione face eye foot\n",
      "Topic 3:\n",
      "harry dobby room door sir look corridor say wall elf\n",
      "Topic 4:\n",
      "say harry mr weasley fudge minister look team wood ministry\n",
      "Topic 5:\n",
      "malfoy harry snape goyle crabbe hall potter look draco filch\n",
      "Topic 6:\n",
      "say harry dumbledore know look think hermione hagrid tell like\n"
     ]
    }
   ],
   "source": [
    "from sklearn.decomposition import LatentDirichletAllocation\n",
    "from sklearn.feature_extraction.text import CountVectorizer\n",
    "\n",
    "corpus = df_random['Text']\n",
    "\n",
    "vectorizer = CountVectorizer(stop_words='english', tokenizer=tokenization)\n",
    "X = vectorizer.fit_transform(corpus)\n",
    "\n",
    "n_topics = 7\n",
    "\n",
    "# Create and fit the LDA model\n",
    "lda = LatentDirichletAllocation(n_components=n_topics, random_state=0)\n",
    "lda.fit(X)\n",
    "\n",
    "# Function to display topics\n",
    "def display_topics(model, feature_names, no_top_words):\n",
    "    for topic_idx, topic in enumerate(model.components_):\n",
    "        print(\"Topic %d:\" % (topic_idx))\n",
    "        print(\" \".join([feature_names[i] for i in topic.argsort()[:-no_top_words - 1:-1]]))\n",
    "\n",
    "# Displaying topics\n",
    "no_top_words = 10\n",
    "display_topics(lda, vectorizer.get_feature_names_out(), no_top_words)\n"
   ]
  },
  {
   "cell_type": "markdown",
   "id": "86ccdda6-1524-4f2e-bd30-4a06ddfe21d5",
   "metadata": {},
   "source": [
    "## 7 - Clustering with stop words lists\n",
    "As an alternative to named entity recognition, we can create stop word lists to affect what words are included."
   ]
  },
  {
   "cell_type": "code",
   "execution_count": 56,
   "id": "ed3bc015-2987-418e-81e1-b4c4126df99f",
   "metadata": {},
   "outputs": [],
   "source": [
    "from sklearn.feature_extraction import text \n",
    "\n",
    "harry_potter_firstnames = [\n",
    "    \"ab\", \"aberforth\", \"alastor\", \"albus\", \"alic\", \"andromeda\", \"angel\", \"anthony\", \"antioch\",\n",
    "    \"anton\", \"arab\", \"aragog\", \"argus\", \"ariana\", \"armando\", \"arthur\", \"auror\", \"barty\",\n",
    "    \"bellatrix\", \"bernadette\", \"bill\", \"blaise\", \"bloody\", \"british\", \"buckbeak\", \"cadmus\",\n",
    "    \"cedric\", \"chadwick\", \"charlie\", \"cho\", \"colin\", \"cornelius\", \"credence\", \"creevey\",\n",
    "    \"crookshanks\", \"dean\", \"death\", \"delph\", \"dementors\", \"dobby\", \"dolores\", \"draco\",\n",
    "    \"dudley\", \"dumbledore\", \"eater\", \"eaters\", \"elphias\", \"ernie\", \"eulalie\", \"fantastic\",\n",
    "    \"fawkes\", \"fenrir\", \"filius\", \"fleur\", \"fred\", \"gabrielle\", \"garrick\", \"gellert\",\n",
    "    \"george\", \"ginny\", \"gnarlak\", \"godric\", \"golden\", \"gregory\", \"gryffindor\", \"hannah\",\n",
    "    \"harry\", \"hedwig\", \"helena\", \"helga\", \"henry\", \"hermione\", \"hogwarts\", \"horace\",\n",
    "    \"house\", \"hufflepuff\", \"hugo\", \"ilvermorny\", \"isolt\", \"jacob\", \"james\", \"justin\",\n",
    "    \"katie\", \"kendra\", \"kingsley\", \"kreacher\", \"langdon\", \"lavender\", \"lee\", \"leta\",\n",
    "    \"lily\", \"list\", \"lord\", \"lucius\", \"luna\", \"martha\", \"mary\", \"minerva\", \"modesty\",\n",
    "    \"molly\", \"mr\", \"mrs\", \"nagini\", \"narcissa\", \"nearly\", \"neville\", \"newt\", \"nicholas\",\n",
    "    \"nicolas\", \"nymphadora\", \"oliver\", \"olympe\", \"order\", \"padma\", \"pansy\", \"parvati\",\n",
    "    \"peeves\", \"penelope\", \"percival\", \"percy\", \"peter\", \"petunia\", \"pickett\", \"pius\",\n",
    "    \"pomona\", \"poppy\", \"quirinus\", \"ravenclaw\", \"remus\", \"rita\", \"ron\", \"rose\", \"rowena\",\n",
    "    \"rubeus\", \"salazar\", \"scorpius\", \"seamus\", \"seraphina\", \"serpent\", \"severus\", \"sir\",\n",
    "    \"sirius\", \"slytherin\", \"susan\", \"sybill\", \"tales\", \"teddy\", \"the\", \"theseus\",\n",
    "    \"vern\", \"victoire\", \"viktor\", \"vincent\", \"vinda\"\n",
    "]\n",
    "harry_potter_surnames = [\n",
    "    \"dumbledore\", \"moody\", \"potter\", \"spinnet\", \"tonks\", \"johnson\", \"goldstein\", \"peverell\",\n",
    "    \"dolohov\", \"figg\", \"aragog\", \"filch\", \"dippet\", \"weasley\", \"department\", \"crouch\",\n",
    "    \"lestrange\", \"bernadette\", \"zabini\", \"baron\", \"ministry\", \"buckbeak\", \"diggory\", \"boot\",\n",
    "    \"chang\", \"creevey\", \"fudge\", \"barebone\", \"siblings\", \"crookshanks\", \"thomas\", \"death\",\n",
    "    \"eaters\", \"delphini\", \"law\", \"umbridge\", \"malfoy\", \"dursley\", \"army\", \"doge\", \"macmillan\",\n",
    "    \"hicks\", \"beasts\", \"fawkes\", \"greyback\", \"flitwick\", \"delacour\", \"gabrielle\", \"ollivander\",\n",
    "    \"grindelwald\", \"gnarlak\", \"gryffindor\", \"abbott\", \"harry\", \"hedwig\", \"ravenclaw\", \"hufflepuff\",\n",
    "    \"shaw\", \"granger\", \"hogwarts\", \"slughorn\", \"house\", \"hugo\", \"ilvermorny\", \"sayre\", \"kowalski\",\n",
    "    \"james\", \"finch\", \"fletchley\", \"bell\", \"kendra\", \"shacklebolt\", \"kreacher\", \"langdon\", \"brown\",\n",
    "    \"jordan\", \"lestrange\", \"lily\", \"list\", \"voldemort\", \"lucius\", \"lovegood\", \"steward\", \"barebone\",\n",
    "    \"mcgonagall\", \"modesty\", \"molly\", \"granger\", \"nagini\", \"narcissa\", \"nick\", \"longbottom\", \"scamander\",\n",
    "    \"flamel\", \"nicolas\", \"tonks\", \"wood\", \"maxime\", \"order\", \"patil\", \"parkinson\", \"peeves\", \"clearwater\",\n",
    "    \"graves\", \"percy\", \"pettigrew\", \"petunia\", \"pickett\", \"thicknesse\", \"sprout\", \"pomfrey\", \"quirrell\",\n",
    "    \"ravenclaw\", \"lupin\", \"skeeter\", \"ron\", \"rose\", \"rowena\", \"rubeus\", \"salazar\", \"scorpius\", \"seamus\",\n",
    "    \"picquery\", \"serpent\", \"severus\", \"luckless\", \"sirius\", \"slytherin\", \"bones\", \"trelawney\", \"teddy\",\n",
    "    \"alliance\", \"tales\", \"weasleys\", \"theseus\", \"vern\", \"victoire\", \"viktor\", \"crabbe\", \"rosier\"\n",
    "]\n",
    "\n",
    "character_stop_words = harry_potter_firstnames + harry_potter_surnames\n",
    "english_stop_words = list(text.ENGLISH_STOP_WORDS)\n",
    "combined_stop_words = english_stop_words + character_stop_words\n"
   ]
  },
  {
   "cell_type": "code",
   "execution_count": 57,
   "id": "6eb1effb-c175-4dcd-aebb-1c572fde0bb0",
   "metadata": {},
   "outputs": [],
   "source": [
    "def display_top_terms_kmeans(model, feature_names, n_top_words):\n",
    "    for cluster_num, centroid in enumerate(model.cluster_centers_):\n",
    "        print(f\"Cluster {cluster_num}: \", end='')\n",
    "        print(\", \".join([feature_names[i] for i in centroid.argsort()[:-n_top_words - 1:-1]]))\n",
    "\n",
    "def display_top_terms_lda(model, feature_names, n_top_words):\n",
    "    for topic_idx, topic in enumerate(model.components_):\n",
    "        print(f\"Topic {topic_idx}: \", end='')\n",
    "        print(\", \".join([feature_names[i] for i in topic.argsort()[:-n_top_words - 1:-1]]))\n"
   ]
  },
  {
   "cell_type": "markdown",
   "id": "c2c99c01-aa3c-4224-a599-c9a1403226df",
   "metadata": {},
   "source": [
    "### 7.1 - KMeans and LDA with custom stop word list\n",
    "\n",
    "As there was lists of surnames and firstnames available, I will pass them to the vectorizer as additional stop words!"
   ]
  },
  {
   "cell_type": "code",
   "execution_count": 58,
   "id": "5d2b2bb2-6690-4ddb-a4e4-df021d2cb789",
   "metadata": {},
   "outputs": [
    {
     "name": "stderr",
     "output_type": "stream",
     "text": [
      "/Users/axelandersson/anaconda3/envs/tdde16-project/lib/python3.11/site-packages/sklearn/feature_extraction/text.py:408: UserWarning: Your stop_words may be inconsistent with your preprocessing. Tokenizing the stop words generated tokens ['beast', 'bone', 'crookshank', 'dementor', 'dolore', 'elphia', 'fawke', 'fre', 'grave', 'hick', 'hogwart', 'nichola', 'peeve', 'rise', 'sibling', 'tale', 'tonk'] not in stop_words.\n",
      "  warnings.warn(\n"
     ]
    }
   ],
   "source": [
    "from sklearn.feature_extraction.text import TfidfVectorizer, CountVectorizer\n",
    "from sklearn.cluster import KMeans\n",
    "from sklearn.decomposition import LatentDirichletAllocation\n",
    "import pandas as pd\n",
    "\n",
    "corpus = df_random['Text']\n",
    "\n",
    "# For KMeans clustering\n",
    "tfidf_vectorizer = TfidfVectorizer(stop_words=combined_stop_words, tokenizer=tokenization)\n",
    "X_tfidf = tfidf_vectorizer.fit_transform(corpus)\n",
    "kmeans = KMeans(n_clusters=7, n_init='auto')\n",
    "clusters_kmeans = kmeans.fit_predict(X_tfidf)\n",
    "\n",
    "# For LDA topic modeling\n",
    "count_vectorizer = CountVectorizer(stop_words=combined_stop_words, tokenizer=tokenization)\n",
    "X_count = count_vectorizer.fit_transform(corpus)\n",
    "lda = LatentDirichletAllocation(n_components=7, random_state=0)\n",
    "topics_lda = lda.fit_transform(X_count)\n",
    "\n"
   ]
  },
  {
   "cell_type": "code",
   "execution_count": 59,
   "id": "3425275f-21a4-44d3-bc73-66497d175849",
   "metadata": {},
   "outputs": [
    {
     "name": "stdout",
     "output_type": "stream",
     "text": [
      "\n",
      "Top terms per cluster (KMeans):\n",
      "Cluster 0: vernon, uncle, aunt, say, marge, look, letter, kitchen, room, car, owl, like, living, boy, time\n",
      "Cluster 1: say, look, know, think, tell, want, like, come, ask, yeah, right, oh, good, voice, time\n",
      "Cluster 2: say, know, look, think, tell, time, year, hogwart, want, ask, leave, like, feel, day, come\n",
      "Cluster 3: professor, say, look, class, student, think, hall, tell, eye, table, voice, know, sit, teacher, turn\n",
      "Cluster 4: wand, say, look, door, hand, eye, face, stand, head, foot, come, light, like, voice, feel\n",
      "Cluster 5: snape, say, professor, look, dark, know, wand, eye, think, tell, face, potion, office, black, try\n",
      "Cluster 6: hagrid, ter, yeh, say, o, look, know, yer, don, fer, fang, tell, bin, cabin, forest\n"
     ]
    }
   ],
   "source": [
    "n_top_words = 15\n",
    "print(\"\\nTop terms per cluster (KMeans):\")\n",
    "display_top_terms_kmeans(kmeans, tfidf_vectorizer.get_feature_names_out(), n_top_words)\n"
   ]
  },
  {
   "cell_type": "code",
   "execution_count": 60,
   "id": "8ae7cc14-b9ba-4be1-8267-b6f559c36b34",
   "metadata": {},
   "outputs": [
    {
     "name": "stdout",
     "output_type": "stream",
     "text": [
      "\n",
      "Top terms per topic (LDA):\n",
      "Topic 0: know, wand, say, feel, eye, face, hand, think, look, tell, like, voice, dark, place, long\n",
      "Topic 1: say, professor, look, snape, think, tell, come, time, know, right, eye, turn, face, good, head\n",
      "Topic 2: look, door, say, wand, stand, light, like, krum, wall, come, water, room, foot, bagman, open\n",
      "Topic 3: say, look, know, think, like, tell, come, want, ask, time, uncle, vernon, hogwart, year, good\n",
      "Topic 4: say, think, look, know, tell, like, want, eye, come, ask, right, wand, hear, black, hand\n",
      "Topic 5: wand, door, head, floor, foot, look, light, come, say, fall, hand, black, hear, eye, lockhart\n",
      "Topic 6: hagrid, say, ter, look, yeh, know, like, tell, come, o, head, forest, tree, face, giant\n"
     ]
    }
   ],
   "source": [
    "\n",
    "print(\"\\nTop terms per topic (LDA):\")\n",
    "display_top_terms_lda(lda, count_vectorizer.get_feature_names_out(), n_top_words)"
   ]
  },
  {
   "cell_type": "markdown",
   "id": "60e05bc6-12de-493d-af51-2e133c984d56",
   "metadata": {},
   "source": [
    "## Part 8 - Classification with stop word list\n",
    "Since we have created a decent stop word list with named entities, we can try and see what happens when this is applied on classification with Naive Bayes and SVM! This will likely focus more on the semantic content."
   ]
  },
  {
   "cell_type": "markdown",
   "id": "7ea0e32e-2456-42e7-89e7-ee7b094d9f4f",
   "metadata": {},
   "source": [
    "### Part 8.1 - Naive Bayes "
   ]
  },
  {
   "cell_type": "code",
   "execution_count": 61,
   "id": "6ac4c33e-8f3e-441b-b43f-e6c75329ea0b",
   "metadata": {},
   "outputs": [
    {
     "name": "stdout",
     "output_type": "stream",
     "text": [
      "              precision    recall  f1-score   support\n",
      "\n",
      "           1       0.85      0.42      0.56        52\n",
      "           2       0.96      0.48      0.64        98\n",
      "           3       0.77      0.54      0.64        89\n",
      "           4       0.89      0.72      0.79       196\n",
      "           5       0.53      0.94      0.68       218\n",
      "           6       0.82      0.65      0.73       170\n",
      "           7       0.91      0.93      0.92       187\n",
      "\n",
      "    accuracy                           0.74      1010\n",
      "   macro avg       0.82      0.67      0.71      1010\n",
      "weighted avg       0.80      0.74      0.74      1010\n",
      "\n"
     ]
    }
   ],
   "source": [
    "from sklearn.pipeline import make_pipeline\n",
    "from sklearn.naive_bayes import MultinomialNB\n",
    "from sklearn.feature_extraction.text import CountVectorizer\n",
    "from sklearn.metrics import classification_report\n",
    "clf_NB_sw = make_pipeline(CountVectorizer(stop_words = combined_stop_words, tokenizer = tokenization), MultinomialNB())\n",
    "clf_NB_sw.fit(df_training['Text'], df_training['label'])\n",
    "\n",
    "predictions_NB_sw = clf_NB_sw.predict(df_test['Text'])\n",
    "\n",
    "report_NB_sw = classification_report(df_test['label'], predictions_NB_sw, target_names=labels)\n",
    "\n",
    "print(report_NB_sw)"
   ]
  },
  {
   "cell_type": "markdown",
   "id": "d5782ece-0a31-41ef-96f2-7b2552138875",
   "metadata": {},
   "source": [
    "### Part 8.2 - SVM "
   ]
  },
  {
   "cell_type": "code",
   "execution_count": 62,
   "id": "09072d5c-9d9f-415d-9eb1-3ac1aa547dcc",
   "metadata": {},
   "outputs": [
    {
     "name": "stderr",
     "output_type": "stream",
     "text": [
      "/Users/axelandersson/anaconda3/envs/tdde16-project/lib/python3.11/site-packages/sklearn/feature_extraction/text.py:525: UserWarning: The parameter 'token_pattern' will not be used since 'tokenizer' is not None'\n",
      "  warnings.warn(\n",
      "/Users/axelandersson/anaconda3/envs/tdde16-project/lib/python3.11/site-packages/sklearn/feature_extraction/text.py:408: UserWarning: Your stop_words may be inconsistent with your preprocessing. Tokenizing the stop words generated tokens ['beast', 'bone', 'crookshank', 'dementor', 'dolore', 'elphia', 'fawke', 'fre', 'grave', 'hick', 'hogwart', 'nichola', 'peeve', 'rise', 'sibling', 'tale', 'tonk'] not in stop_words.\n",
      "  warnings.warn(\n"
     ]
    },
    {
     "name": "stdout",
     "output_type": "stream",
     "text": [
      "              precision    recall  f1-score   support\n",
      "\n",
      "           1       0.93      0.73      0.82        52\n",
      "           2       0.78      0.70      0.74        98\n",
      "           3       0.85      0.76      0.80        89\n",
      "           4       0.84      0.75      0.79       196\n",
      "           5       0.66      0.88      0.76       218\n",
      "           6       0.80      0.76      0.78       170\n",
      "           7       0.95      0.89      0.92       187\n",
      "\n",
      "    accuracy                           0.80      1010\n",
      "   macro avg       0.83      0.78      0.80      1010\n",
      "weighted avg       0.82      0.80      0.80      1010\n",
      "\n"
     ]
    }
   ],
   "source": [
    "from sklearn.svm import SVC\n",
    "from sklearn.pipeline import make_pipeline\n",
    "from sklearn.feature_extraction.text import TfidfVectorizer\n",
    "from sklearn.metrics import classification_report\n",
    "\n",
    "tf_idf_vectorizer = TfidfVectorizer(stop_words=combined_stop_words, tokenizer=tokenization)\n",
    "clf_SVM_sw = make_pipeline(tf_idf_vectorizer, SVC(kernel='linear'))\n",
    "clf_SVM_sw.fit(df_training['Text'], df_training['label'])\n",
    "\n",
    "SVM_predictions_sw = clf_SVM_sw.predict(df_test['Text'])\n",
    "\n",
    "report_SVM_sw = classification_report(df_test['label'], SVM_predictions_sw, target_names=labels)\n",
    "print(report_SVM_sw)"
   ]
  },
  {
   "cell_type": "code",
   "execution_count": 63,
   "id": "f69ae945-3f0e-405c-a09e-dc25dfae29b8",
   "metadata": {},
   "outputs": [
    {
     "name": "stdout",
     "output_type": "stream",
     "text": [
      "  (0, 13978)\t0.09660872729995992\n",
      "  (0, 13714)\t0.07710691885564788\n",
      "  (0, 13526)\t0.0544427716624815\n",
      "  (0, 12672)\t0.10247961465439534\n",
      "  (0, 12515)\t0.10414138496208074\n",
      "  (0, 12277)\t0.08551555303733004\n",
      "  (0, 12171)\t0.04929785617929063\n",
      "  (0, 12037)\t0.07620931409406843\n",
      "  (0, 11921)\t0.10828089897742771\n",
      "  (0, 11677)\t0.11014800361710622\n",
      "  (0, 11666)\t0.09563692263275145\n",
      "  (0, 11523)\t0.0676422840263988\n",
      "  (0, 11254)\t0.09703697075041108\n",
      "  (0, 11121)\t0.10009458267262107\n",
      "  (0, 10979)\t0.11407214289739437\n",
      "  (0, 10858)\t0.1899300651994147\n",
      "  (0, 10773)\t0.09836718846348268\n",
      "  (0, 10647)\t0.1557795047647357\n",
      "  (0, 10485)\t0.16455487704924918\n",
      "  (0, 10409)\t0.09703697075041108\n",
      "  (0, 10384)\t0.14214148929759376\n",
      "  (0, 10251)\t0.13070030908375907\n",
      "  (0, 10002)\t0.18661177179218338\n",
      "  (0, 9615)\t0.25777752712499385\n",
      "  (0, 9612)\t0.07797005196133654\n",
      "  :\t:\n",
      "  (0, 6794)\t0.13070030908375907\n",
      "  (0, 6779)\t0.10873486410758051\n",
      "  (0, 6587)\t0.1492836594159577\n",
      "  (0, 6163)\t0.134859391552967\n",
      "  (0, 6008)\t0.11269505791340344\n",
      "  (0, 5912)\t0.10511426193603232\n",
      "  (0, 5910)\t0.0833734448140921\n",
      "  (0, 5786)\t0.14064337798099827\n",
      "  (0, 5717)\t0.09127144851014607\n",
      "  (0, 5229)\t0.06616239576494509\n",
      "  (0, 5136)\t0.05852640652774167\n",
      "  (0, 4848)\t0.11190354623060204\n",
      "  (0, 4648)\t0.11351224467601444\n",
      "  (0, 4611)\t0.11583060406091711\n",
      "  (0, 4586)\t0.1773256099612184\n",
      "  (0, 4464)\t0.24801216348174396\n",
      "  (0, 4193)\t0.10053737614323217\n",
      "  (0, 4126)\t0.17813456136716546\n",
      "  (0, 2157)\t0.14106847003555464\n",
      "  (0, 2041)\t0.1301584735108379\n",
      "  (0, 1826)\t0.09392594170307264\n",
      "  (0, 1435)\t0.1383160891673013\n",
      "  (0, 908)\t0.13551382790808456\n",
      "  (0, 586)\t0.05701186507645125\n",
      "  (0, 325)\t0.134859391552967\n"
     ]
    }
   ],
   "source": [
    "sample_text = df_4[df_4['Page'] == 242]['Text'].iloc[0]\n",
    "\n",
    "# Transform the sample text\n",
    "transformed_vector = tf_idf_vectorizer.transform([sample_text])\n",
    "print(transformed_vector)"
   ]
  },
  {
   "cell_type": "code",
   "execution_count": 64,
   "id": "622e31d5-ad2c-4124-909c-6e15ab97149c",
   "metadata": {},
   "outputs": [
    {
     "name": "stdout",
     "output_type": "stream",
     "text": [
      "[array(['wrong', 'whisper', 'want', 'trouble', 'touch', 'think', 'tell',\n",
      "       'table', 'surprise', 'strange', 'straight', 'stare', 'soon',\n",
      "       'snap', 'slam', 'sign', 'short', 'series', 'scrawl', 'scar', 'say',\n",
      "       'rumor', 'retirement', 'read', 'reach', 'perplexed', 'owlery',\n",
      "       'open', 'north', 'news', 'mean', 'mad', 'look', 'letter', 'late',\n",
      "       'lap', 'land', 'jolt', 'indignantly', 'immediately', 'hurt',\n",
      "       'hurry', 'hoot', 'hit', 'great', 'good', 'furiously', 'forehead',\n",
      "       'food', 'fly', 'fist', 'eye', 'expectantly', 'come', 'click',\n",
      "       'chair', 'breathlessly', 'beak', 'ask', 'aloud'], dtype='<U20')]\n"
     ]
    }
   ],
   "source": [
    "words = tf_idf_vectorizer.inverse_transform(transformed_vector)\n",
    "\n",
    "print(words)"
   ]
  },
  {
   "cell_type": "code",
   "execution_count": 65,
   "id": "d6803fc2-b1a6-46ab-aeac-dc9d4ae3267a",
   "metadata": {},
   "outputs": [
    {
     "data": {
      "image/png": "[encoded data removed]",
      "text/plain": [
       "<Figure size 1000x600 with 1 Axes>"
      ]
     },
     "metadata": {},
     "output_type": "display_data"
    }
   ],
   "source": [
    "import matplotlib.pyplot as plt\n",
    "from sklearn.metrics import accuracy_score\n",
    "\n",
    "accuracy_NB_SW = accuracy_score(df_test['label'], clf_NB_sw.predict(df_test['Text']))\n",
    "accuracy_SVM_SW = accuracy_score(df_test['label'], clf_SVM_sw.predict(df_test['Text']))\n",
    "\n",
    "# Prepare data for plotting, comparing with the old results without custom stop words.\n",
    "classifiers = ['NB Full Vocab', 'NB Stop words', 'SVM Full Vocab', 'SVM Stop Words']\n",
    "accuracies = [accuracy_NB, accuracy_NB_SW, accuracy_SVM, accuracy_SVM_SW]\n",
    "baseline = [baseline_accuracy] * len(classifiers) \n",
    "colors = ['blue', 'green', 'blue', 'green']  # Colors for each bar\n",
    "\n",
    "# Create bar chart\n",
    "plt.figure(figsize=(10, 6))\n",
    "bars = plt.bar(classifiers, accuracies, color=colors)\n",
    "plt.axhline(y=baseline_accuracy, color='r', linestyle='-', label=f'Baseline ({baseline_accuracy:.2f})')\n",
    "\n",
    "# Just some plot syntax i copied from stackoverflow...\n",
    "for bar, accuracy in zip(bars, accuracies):\n",
    "    yval = bar.get_height()\n",
    "    plt.text(bar.get_x() + bar.get_width()/2, yval, round(accuracy, 2), ha='center', va='bottom')\n",
    "\n",
    "plt.xlabel('Classifiers')\n",
    "plt.ylabel('Accuracy')\n",
    "plt.title('Comparison of Classifier Accuracies')\n",
    "plt.legend()\n",
    "plt.show()\n"
   ]
  },
  {
   "cell_type": "markdown",
   "id": "0c5966e4-6443-455e-951d-45ab9002ca87",
   "metadata": {},
   "source": [
    "## Part 9 - Named Entity Recognition\n",
    "Since the hypothesis is that the classifiers work mainly on frequently named people, places or phenoms when the pure text is provided, we will have to consider alternative approaches to really evaluate if there are actual language trends that are typical for each book. These named entities kind of \"give away\" the book sometimes by being to obviously connected to one or a couple of books, and the TfidfVectorizer catches such patterns quite easily. Therefore, this part will aim to identify named entities and replacing them with generic entity tokens. "
   ]
  },
  {
   "cell_type": "code",
   "execution_count": 66,
   "id": "1487c250-9c79-4258-8e3b-9c45d75b0901",
   "metadata": {},
   "outputs": [
    {
     "name": "stdout",
     "output_type": "stream",
     "text": [
      "Harry PERSON\n",
      "Harry — I’m PERSON\n",
      "Dumbledore PERSON\n",
      "Mad-Eye ORG\n",
      "Ron PERSON\n",
      "Harry PERSON\n",
      "Harry PERSON\n",
      "Ron PERSON\n",
      "Dumbledore PERSON\n",
      "Ron PERSON\n",
      "Harry PERSON\n",
      "Harry PERSON\n",
      "Hedwig NORP\n",
      "Harry PERSON\n",
      "Ron PERSON\n",
      "Harry PERSON\n",
      "Hedwig NORP\n",
      "Ron PERSON\n",
      "Harry PERSON\n",
      "Hedwig LOC\n",
      "Owlery PERSON\n"
     ]
    }
   ],
   "source": [
    "# Sample text for NER\n",
    "sample_text = df_4[df_4['Page'] == 242]['Text'].iloc[0] \n",
    "doc = nlp(sample_text)\n",
    "\n",
    "# Print detected entities and their types\n",
    "for ent in doc.ents:\n",
    "    print(ent.text, ent.label_)"
   ]
  },
  {
   "cell_type": "code",
   "execution_count": 67,
   "id": "bd21d7b4-65e8-4454-8f42-5dabed5546c5",
   "metadata": {},
   "outputs": [],
   "source": [
    "def replace_entities_with_tokens(text):\n",
    "    doc = nlp(text)\n",
    "    new_text = text\n",
    "    for ent in doc.ents:\n",
    "        if ent.label_ in ['PERSON', 'GPE', 'LOC', 'ORG', 'NORP']:\n",
    "            new_text = new_text.replace(ent.text, ent.label_)\n",
    "    return new_text\n"
   ]
  },
  {
   "cell_type": "code",
   "execution_count": 68,
   "id": "17c36f1c-26b9-4ad5-9751-2a34c1356728",
   "metadata": {},
   "outputs": [],
   "source": [
    "df_ner = df_random[['Page', 'label']].copy()\n",
    "\n",
    "# Apply NER and replacement to the Text column\n",
    "df_ner['Text'] = df_random['Text'].apply(replace_entities_with_tokens)\n"
   ]
  },
  {
   "cell_type": "code",
   "execution_count": 69,
   "id": "b77234e5-e5cc-464c-823e-ceb7075646ac",
   "metadata": {},
   "outputs": [
    {
     "name": "stdout",
     "output_type": "stream",
     "text": [
      "   Page  label                                               Text\n",
      "0    57      2  “I said I would buy you a racing broom,” said ...\n",
      "1   253      3  PERSON, meanwhile, had to fit in his homework ...\n",
      "2   644      4  PERSON and PERSON stood there in the darkness ...\n",
      "3   198      3  \"With an incantation, which will work only if ...\n",
      "4   346      6  “Oh, ha ha …” Enjoying the fact that they coul...\n"
     ]
    }
   ],
   "source": [
    "print(df_ner.head())"
   ]
  },
  {
   "cell_type": "code",
   "execution_count": 70,
   "id": "7a0b0d15-876e-440a-98ac-d6d5e5826053",
   "metadata": {},
   "outputs": [
    {
     "name": "stdout",
     "output_type": "stream",
     "text": [
      "“I was just having some fun,” he says, before hastily changing the subject. As if this were not enough, ORG has now unearthed evidence that NORP is not — as he has always pretended — a pure-blood wizard. He is not, in fact, even pure human. His mother, we can exclusively reveal, is none other than the giantess GPE, whose whereabouts are currently unknown. Bloodthirsty and brutal, the ORG brought themselves to the point of extinction by warring amongst themselves during the last century. The handful that remained joined the ranks of ORG, and were responsible for some of the worst mass Muggle killings of his reign of terror. While many of the ORG who served He-WhoMust-Not-Be-Named were killed by Aurors working against the Dark Side, GPE was not among them. It is possible she escaped to one of the giant communities still existing in foreign mountain ranges. If his antics during ORG lessons are any guide, however, GPE’s son appears to have inherited her brutal nature. In a bizarre twist, NORP is reputed to have developed a close friendship with the boy who brought around You-Know-Who’s fall from power — thereby driving NORP’s own mother,\n"
     ]
    }
   ],
   "source": [
    "print(df_ner[df_ner['Page'] == 455]['Text'].iloc[0]) "
   ]
  },
  {
   "cell_type": "markdown",
   "id": "1067c399-2a24-4f04-bb4f-815fd2aff738",
   "metadata": {},
   "source": [
    "### Part 9.1 - Classification after extracting NE, Naive Bayes"
   ]
  },
  {
   "cell_type": "code",
   "execution_count": 71,
   "id": "e825ba38-b89c-428d-bf4b-af580108248e",
   "metadata": {},
   "outputs": [],
   "source": [
    "df_train_random, df_test_random = train_test_split(df_ner, test_size=0.25, random_state=42)\n",
    "df_train_stratified, df_test_stratified = train_test_split(df_ner, test_size=0.25, random_state=42, stratify=df_ner['label'])\n"
   ]
  },
  {
   "cell_type": "code",
   "execution_count": 72,
   "id": "328b8cc9-41fd-49cb-91ac-8afa68fbc376",
   "metadata": {},
   "outputs": [
    {
     "name": "stderr",
     "output_type": "stream",
     "text": [
      "/Users/axelandersson/anaconda3/envs/tdde16-project/lib/python3.11/site-packages/sklearn/feature_extraction/text.py:525: UserWarning: The parameter 'token_pattern' will not be used since 'tokenizer' is not None'\n",
      "  warnings.warn(\n"
     ]
    },
    {
     "name": "stdout",
     "output_type": "stream",
     "text": [
      "              precision    recall  f1-score   support\n",
      "\n",
      "           1       0.93      0.27      0.42        52\n",
      "           2       0.78      0.18      0.30        98\n",
      "           3       0.74      0.39      0.51        89\n",
      "           4       0.77      0.67      0.71       196\n",
      "           5       0.45      0.89      0.60       218\n",
      "           6       0.76      0.58      0.66       170\n",
      "           7       0.90      0.93      0.92       187\n",
      "\n",
      "    accuracy                           0.66      1010\n",
      "   macro avg       0.76      0.56      0.59      1010\n",
      "weighted avg       0.73      0.66      0.64      1010\n",
      "\n"
     ]
    }
   ],
   "source": [
    "from sklearn.pipeline import make_pipeline\n",
    "from sklearn.naive_bayes import MultinomialNB\n",
    "from sklearn.feature_extraction.text import CountVectorizer\n",
    "from sklearn.metrics import classification_report\n",
    "clf_NB_NE = make_pipeline(CountVectorizer(stop_words = 'english', tokenizer = tokenization), MultinomialNB())\n",
    "clf_NB_NE.fit(df_train_random['Text'], df_train_random['label'])\n",
    "\n",
    "predictions_NB_NE = clf_NB_NE.predict(df_test_random['Text'])\n",
    "\n",
    "report_NB_NE = classification_report(df_test_random['label'], predictions_NB_NE, target_names=labels)\n",
    "\n",
    "print(report_NB_NE)"
   ]
  },
  {
   "cell_type": "code",
   "execution_count": 73,
   "id": "886901ca-3712-4466-8250-6a16fd22472c",
   "metadata": {},
   "outputs": [
    {
     "name": "stderr",
     "output_type": "stream",
     "text": [
      "/Users/axelandersson/anaconda3/envs/tdde16-project/lib/python3.11/site-packages/sklearn/feature_extraction/text.py:525: UserWarning: The parameter 'token_pattern' will not be used since 'tokenizer' is not None'\n",
      "  warnings.warn(\n"
     ]
    },
    {
     "name": "stdout",
     "output_type": "stream",
     "text": [
      "              precision    recall  f1-score   support\n",
      "\n",
      "           1       0.78      0.28      0.41        50\n",
      "           2       0.81      0.24      0.37        93\n",
      "           3       0.80      0.35      0.48        92\n",
      "           4       0.70      0.67      0.69       186\n",
      "           5       0.45      0.91      0.61       220\n",
      "           6       0.84      0.52      0.64       181\n",
      "           7       0.86      0.89      0.87       188\n",
      "\n",
      "    accuracy                           0.65      1010\n",
      "   macro avg       0.75      0.55      0.58      1010\n",
      "weighted avg       0.72      0.65      0.63      1010\n",
      "\n"
     ]
    }
   ],
   "source": [
    "from sklearn.pipeline import make_pipeline\n",
    "from sklearn.naive_bayes import MultinomialNB\n",
    "from sklearn.feature_extraction.text import CountVectorizer\n",
    "from sklearn.metrics import classification_report\n",
    "clf_NB_NE_strat = make_pipeline(CountVectorizer(stop_words = 'english', tokenizer = tokenization), MultinomialNB())\n",
    "clf_NB_NE_strat.fit(df_train_stratified['Text'], df_train_stratified['label'])\n",
    "\n",
    "predictions_NB_NE_strat = clf_NB_NE_strat.predict(df_test_stratified['Text'])\n",
    "\n",
    "report_NB_NE_strat = classification_report(df_test_strat['label'], predictions_NB_NE_strat, target_names=labels)\n",
    "\n",
    "print(report_NB_NE_strat)"
   ]
  },
  {
   "cell_type": "markdown",
   "id": "39c2423c-f748-4078-8036-76533dc3e7ad",
   "metadata": {},
   "source": [
    "### 9.3 - Classification after NER, SVM"
   ]
  },
  {
   "cell_type": "code",
   "execution_count": 74,
   "id": "aba20ee0-be1a-4989-b6a9-e2a62eab9a40",
   "metadata": {},
   "outputs": [
    {
     "name": "stderr",
     "output_type": "stream",
     "text": [
      "/Users/axelandersson/anaconda3/envs/tdde16-project/lib/python3.11/site-packages/sklearn/feature_extraction/text.py:525: UserWarning: The parameter 'token_pattern' will not be used since 'tokenizer' is not None'\n",
      "  warnings.warn(\n"
     ]
    },
    {
     "name": "stdout",
     "output_type": "stream",
     "text": [
      "              precision    recall  f1-score   support\n",
      "\n",
      "           1       0.97      0.54      0.69        52\n",
      "           2       0.67      0.48      0.56        98\n",
      "           3       0.70      0.64      0.67        89\n",
      "           4       0.73      0.69      0.71       196\n",
      "           5       0.60      0.81      0.69       218\n",
      "           6       0.71      0.71      0.71       170\n",
      "           7       0.90      0.87      0.89       187\n",
      "\n",
      "    accuracy                           0.72      1010\n",
      "   macro avg       0.75      0.68      0.70      1010\n",
      "weighted avg       0.73      0.72      0.72      1010\n",
      "\n"
     ]
    }
   ],
   "source": [
    "tf_idf_vectorizer = TfidfVectorizer(stop_words='english', tokenizer=tokenization)\n",
    "clf_SVM_NE = make_pipeline(tf_idf_vectorizer, SVC(kernel='linear'))\n",
    "clf_SVM_NE.fit(df_train_random['Text'], df_train_random['label'])\n",
    "\n",
    "SVM_predictions_NE = clf_SVM_NE.predict(df_test_random['Text'])\n",
    "\n",
    "report_SVM_NE = classification_report(df_test_random['label'], SVM_predictions_NE, target_names=labels)\n",
    "print(report_SVM_NE)"
   ]
  },
  {
   "cell_type": "code",
   "execution_count": 75,
   "id": "d05fb256-774e-413a-998c-780370e76994",
   "metadata": {},
   "outputs": [
    {
     "name": "stderr",
     "output_type": "stream",
     "text": [
      "/Users/axelandersson/anaconda3/envs/tdde16-project/lib/python3.11/site-packages/sklearn/feature_extraction/text.py:525: UserWarning: The parameter 'token_pattern' will not be used since 'tokenizer' is not None'\n",
      "  warnings.warn(\n"
     ]
    },
    {
     "name": "stdout",
     "output_type": "stream",
     "text": [
      "              precision    recall  f1-score   support\n",
      "\n",
      "           1       0.94      0.62      0.75        50\n",
      "           2       0.71      0.49      0.58        93\n",
      "           3       0.79      0.65      0.71        92\n",
      "           4       0.73      0.72      0.72       186\n",
      "           5       0.59      0.78      0.67       220\n",
      "           6       0.72      0.72      0.72       181\n",
      "           7       0.91      0.88      0.89       188\n",
      "\n",
      "    accuracy                           0.73      1010\n",
      "   macro avg       0.77      0.70      0.72      1010\n",
      "weighted avg       0.74      0.73      0.73      1010\n",
      "\n"
     ]
    }
   ],
   "source": [
    "tf_idf_vectorizer = TfidfVectorizer(stop_words='english', tokenizer=tokenization)\n",
    "clf_SVM_NE_strat = make_pipeline(tf_idf_vectorizer, SVC(kernel='linear'))\n",
    "clf_SVM_NE_strat.fit(df_train_stratified['Text'], df_train_stratified['label'])\n",
    "\n",
    "SVM_predictions_NE_strat = clf_SVM_NE_strat.predict(df_test_stratified['Text'])\n",
    "\n",
    "report_SVM_NE_strat = classification_report(df_test_stratified['label'], SVM_predictions_NE_strat, target_names=labels)\n",
    "print(report_SVM_NE_strat)"
   ]
  },
  {
   "cell_type": "code",
   "execution_count": 76,
   "id": "3b5c30d3-9dbb-472c-865f-d9bd82de4355",
   "metadata": {},
   "outputs": [
    {
     "data": {
      "image/png": "[encoded data removed]",
      "text/plain": [
       "<Figure size 1000x600 with 1 Axes>"
      ]
     },
     "metadata": {},
     "output_type": "display_data"
    }
   ],
   "source": [
    "import matplotlib.pyplot as plt\n",
    "from sklearn.metrics import accuracy_score\n",
    "\n",
    "accuracy_NB_NE = accuracy_score(df_test_random['label'], clf_NB_NE.predict(df_test_random['Text']))\n",
    "accuracy_SVM_NE = accuracy_score(df_test_stratified['label'], clf_SVM_NE_strat.predict(df_test_stratified['Text']))\n",
    "\n",
    "# Prepare data for plotting, comparing with the old results without custom stop words.\n",
    "classifiers = ['NB Full Vocab', 'NB Stop words', 'NB After NER', 'SVM Full Vocab', 'SVM Stop Words', 'SVM After NER']\n",
    "accuracies = [accuracy_NB, accuracy_NB_SW, accuracy_NB_NE, accuracy_SVM, accuracy_SVM_SW, accuracy_SVM_NE]\n",
    "baseline = [baseline_accuracy] * len(classifiers) \n",
    "colors = ['blue', 'green', 'yellow', 'blue', 'green', 'yellow']  # Colors for each bar\n",
    "\n",
    "# Create bar chart\n",
    "plt.figure(figsize=(10, 6))\n",
    "bars = plt.bar(classifiers, accuracies, color=colors)\n",
    "plt.axhline(y=baseline_accuracy, color='r', linestyle='-', label=f'Baseline ({baseline_accuracy:.2f})')\n",
    "\n",
    "# Just some plot syntax i copied from stackoverflow...\n",
    "for bar, accuracy in zip(bars, accuracies):\n",
    "    yval = bar.get_height()\n",
    "    plt.text(bar.get_x() + bar.get_width()/2, yval, round(accuracy, 2), ha='center', va='bottom')\n",
    "\n",
    "plt.xlabel('Classifiers')\n",
    "plt.ylabel('Accuracy')\n",
    "plt.title('Comparison of Classifier Accuracies')\n",
    "plt.legend()\n",
    "plt.show()"
   ]
  },
  {
   "cell_type": "code",
   "execution_count": 86,
   "id": "ede158f0-cf2b-4409-b54a-3c07d46f1783",
   "metadata": {},
   "outputs": [],
   "source": [
    "ne_stop_words = ['norp', 'person', 'loc', 'org', 'gpe']\n",
    "cluster_stop_words = english_stop_words + ne_stop_words"
   ]
  },
  {
   "cell_type": "code",
   "execution_count": 82,
   "id": "95fd993e-be31-4750-93af-ba14494c9ad6",
   "metadata": {},
   "outputs": [],
   "source": [
    "from sklearn.feature_extraction.text import TfidfVectorizer, CountVectorizer\n",
    "from sklearn.cluster import KMeans\n",
    "from sklearn.decomposition import LatentDirichletAllocation\n",
    "import pandas as pd\n",
    "\n",
    "corpus = df_ner['Text']\n",
    "\n",
    "# For KMeans clustering\n",
    "tfidf_vectorizer = TfidfVectorizer(stop_words=cluster_stop_words, tokenizer=tokenization)\n",
    "X_tfidf = tfidf_vectorizer.fit_transform(corpus)\n",
    "kmeans = KMeans(n_clusters=7, n_init='auto')\n",
    "clusters_kmeans = kmeans.fit_predict(X_tfidf)\n",
    "\n",
    "# For LDA topic modeling\n",
    "count_vectorizer = CountVectorizer(stop_words=cluster_stop_words, tokenizer=tokenization)\n",
    "X_count = count_vectorizer.fit_transform(corpus)\n",
    "lda = LatentDirichletAllocation(n_components=7, random_state=0)\n",
    "topics_lda = lda.fit_transform(X_count)\n"
   ]
  },
  {
   "cell_type": "code",
   "execution_count": 83,
   "id": "3cde4c0c-be7d-43ce-ad19-72205a536642",
   "metadata": {},
   "outputs": [
    {
     "name": "stdout",
     "output_type": "stream",
     "text": [
      "\n",
      "Top terms per cluster (KMeans):\n",
      "Cluster 0: wand, say, hand, look, face, eye, foot, feel, light, fall, like, ground, head, voice, stand\n",
      "Cluster 1: professor, say, look, class, tell, think, know, yes, eye, turn, good, voice, student, hermione, leave\n",
      "Cluster 2: door, say, room, look, open, come, corridor, stand, hear, step, know, voice, think, wall, head\n",
      "Cluster 3: mr, mrs, say, look, know, think, tell, hand, come, wand, eye, like, good, ask, want\n",
      "Cluster 4: say, know, look, hermione, think, tell, want, like, ask, come, yeah, oh, right, ter, mean\n",
      "Cluster 5: say, look, year, time, know, think, like, day, good, tell, table, long, come, try, hermione\n",
      "Cluster 6: elf, sir, say, lord, master, know, house, goblin, dark, think, look, tell, wizard, eye, come\n"
     ]
    }
   ],
   "source": [
    "n_top_words = 15\n",
    "print(\"\\nTop terms per cluster (KMeans):\")\n",
    "display_top_terms_kmeans(kmeans, tfidf_vectorizer.get_feature_names_out(), n_top_words)\n"
   ]
  },
  {
   "cell_type": "code",
   "execution_count": 84,
   "id": "1caa5322-9e2d-48b3-a94d-2fd8f584d1ef",
   "metadata": {},
   "outputs": [
    {
     "name": "stdout",
     "output_type": "stream",
     "text": [
      "\n",
      "Top terms per topic (LDA):\n",
      "Topic 0: look, say, feel, face, like, ground, eye, head, hand, stand, turn, mr, black, close, hermione\n",
      "Topic 1: say, know, look, think, tell, want, like, mr, come, time, ask, hermione, good, right, try\n",
      "Topic 2: professor, say, look, class, room, sit, student, year, hand, think, lesson, teacher, potion, leave, eye\n",
      "Topic 3: goblin, know, wizard, minister, prime, lord, think, long, say, year, man, little, inside, house, place\n",
      "Topic 4: wand, look, eye, say, feel, face, stand, voice, know, lord, hand, sword, tell, think, master\n",
      "Topic 5: wand, say, look, hand, face, door, eye, come, head, like, foot, stand, light, hear, voice\n",
      "Topic 6: say, look, hermione, come, think, tell, like, door, know, table, room, good, head, right, turn\n"
     ]
    }
   ],
   "source": [
    "\n",
    "print(\"\\nTop terms per topic (LDA):\")\n",
    "display_top_terms_lda(lda, count_vectorizer.get_feature_names_out(), n_top_words)"
   ]
  },
  {
   "cell_type": "code",
   "execution_count": 87,
   "id": "59017efb-1cf1-4a34-b194-eabb8719029e",
   "metadata": {},
   "outputs": [],
   "source": [
    "cluster_stop_words = combined_stop_words + ne_stop_words"
   ]
  },
  {
   "cell_type": "code",
   "execution_count": 88,
   "id": "e4164045-dceb-4f0c-8c48-297769d22798",
   "metadata": {},
   "outputs": [
    {
     "name": "stderr",
     "output_type": "stream",
     "text": [
      "/Users/axelandersson/anaconda3/envs/tdde16-project/lib/python3.11/site-packages/sklearn/feature_extraction/text.py:408: UserWarning: Your stop_words may be inconsistent with your preprocessing. Tokenizing the stop words generated tokens ['beast', 'bone', 'crookshank', 'dementor', 'dolore', 'elphia', 'fawke', 'fre', 'grave', 'hick', 'hogwart', 'nichola', 'peeve', 'rise', 'sibling', 'tale', 'tonk'] not in stop_words.\n",
      "  warnings.warn(\n"
     ]
    }
   ],
   "source": [
    "from sklearn.feature_extraction.text import TfidfVectorizer, CountVectorizer\n",
    "from sklearn.cluster import KMeans\n",
    "from sklearn.decomposition import LatentDirichletAllocation\n",
    "import pandas as pd\n",
    "\n",
    "corpus = df_ner['Text']\n",
    "\n",
    "# For KMeans clustering\n",
    "tfidf_vectorizer = TfidfVectorizer(stop_words=cluster_stop_words, tokenizer=tokenization)\n",
    "X_tfidf = tfidf_vectorizer.fit_transform(corpus)\n",
    "kmeans = KMeans(n_clusters=7, n_init='auto')\n",
    "clusters_kmeans = kmeans.fit_predict(X_tfidf)\n",
    "\n",
    "# For LDA topic modeling\n",
    "count_vectorizer = CountVectorizer(stop_words=cluster_stop_words, tokenizer=tokenization)\n",
    "X_count = count_vectorizer.fit_transform(corpus)\n",
    "lda = LatentDirichletAllocation(n_components=7, random_state=0)\n",
    "topics_lda = lda.fit_transform(X_count)\n"
   ]
  },
  {
   "cell_type": "code",
   "execution_count": 89,
   "id": "23495be3-4dc7-42f9-b495-8ffefba9a853",
   "metadata": {},
   "outputs": [
    {
     "name": "stdout",
     "output_type": "stream",
     "text": [
      "\n",
      "Top terms per cluster (KMeans):\n",
      "Cluster 0: say, day, look, time, year, owl, book, good, letter, think, room, know, minister, read, tell\n",
      "Cluster 1: say, know, think, tell, look, ask, want, time, wizard, kill, come, like, feel, hear, thing\n",
      "Cluster 2: say, look, face, eye, hand, stand, like, hair, table, man, head, voice, come, long, sit\n",
      "Cluster 3: wand, say, hand, ground, foot, air, fall, scream, light, look, yell, eye, feel, hit, face\n",
      "Cluster 4: say, look, know, think, tell, want, like, ask, yeah, come, oh, right, ter, good, mean\n",
      "Cluster 5: professor, say, look, class, think, tell, know, eye, student, turn, voice, sit, yes, good, hand\n",
      "Cluster 6: door, say, room, open, look, come, corridor, wall, step, stand, hear, staircase, voice, hall, know\n"
     ]
    }
   ],
   "source": [
    "n_top_words = 15\n",
    "print(\"\\nTop terms per cluster (KMeans):\")\n",
    "display_top_terms_kmeans(kmeans, tfidf_vectorizer.get_feature_names_out(), n_top_words)"
   ]
  },
  {
   "cell_type": "code",
   "execution_count": 90,
   "id": "b95cedf0-665c-4326-860f-7d71017aa2f1",
   "metadata": {},
   "outputs": [
    {
     "name": "stdout",
     "output_type": "stream",
     "text": [
      "\n",
      "Top terms per topic (LDA):\n",
      "Topic 0: say, know, look, wand, minister, hand, long, time, feel, think, leave, eye, boy, wizard, old\n",
      "Topic 1: say, look, wand, eye, face, hand, come, stand, head, door, foot, voice, like, open, feel\n",
      "Topic 2: professor, say, look, class, voice, door, know, think, tell, room, hand, open, turn, time, student\n",
      "Topic 3: say, know, think, tell, want, wand, time, like, try, year, master, come, wizard, look, sure\n",
      "Topic 4: say, look, door, like, come, hear, head, stand, ground, foot, right, face, hand, long, large\n",
      "Topic 5: say, look, know, think, tell, like, come, want, ask, good, time, right, oh, thing, leave\n",
      "Topic 6: hogwart, christmas, year, root, snow, trademark, holly, goblet, gilderoy, mistletoe, publication, copyright, scholastic, illustration, permission\n"
     ]
    }
   ],
   "source": [
    "\n",
    "print(\"\\nTop terms per topic (LDA):\")\n",
    "display_top_terms_lda(lda, count_vectorizer.get_feature_names_out(), n_top_words)"
   ]
  },
  {
   "cell_type": "code",
   "execution_count": null,
   "id": "4c79fea2-9228-4dcf-b2c7-13ff96c32fe5",
   "metadata": {},
   "outputs": [],
   "source": []
  }
 ],
 "metadata": {
  "kernelspec": {
   "display_name": "Python 3 (ipykernel)",
   "language": "python",
   "name": "python3"
  },
  "language_info": {
   "codemirror_mode": {
    "name": "ipython",
    "version": 3
   },
   "file_extension": ".py",
   "mimetype": "text/x-python",
   "name": "python",
   "nbconvert_exporter": "python",
   "pygments_lexer": "ipython3",
   "version": "3.11.7"
  }
 },
 "nbformat": 4,
 "nbformat_minor": 5
}
